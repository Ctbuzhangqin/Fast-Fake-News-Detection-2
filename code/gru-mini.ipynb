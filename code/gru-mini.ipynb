{
 "cells": [
  {
   "cell_type": "markdown",
   "metadata": {
    "collapsed": false
   },
   "source": [
    "# 一、环境设置\n",
    "本示例基于飞桨开源框架2.0版本。"
   ]
  },
  {
   "cell_type": "code",
   "execution_count": 1,
   "metadata": {
    "collapsed": false
   },
   "outputs": [
    {
     "name": "stderr",
     "output_type": "stream",
     "text": [
      "/opt/conda/envs/python35-paddle120-env/lib/python3.7/site-packages/paddle/fluid/layers/utils.py:26: DeprecationWarning: `np.int` is a deprecated alias for the builtin `int`. To silence this warning, use `int` by itself. Doing this will not modify any behavior and is safe. When replacing `np.int`, you may wish to use e.g. `np.int64` or `np.int32` to specify the precision. If you wish to review your current use, check the release note link for additional information.\n",
      "Deprecated in NumPy 1.20; for more details and guidance: https://numpy.org/devdocs/release/1.20.0-notes.html#deprecations\n",
      "  def convert_to_list(value, n, name, dtype=np.int):\n",
      "/opt/conda/envs/python35-paddle120-env/lib/python3.7/site-packages/matplotlib/__init__.py:107: DeprecationWarning: Using or importing the ABCs from 'collections' instead of from 'collections.abc' is deprecated, and in 3.8 it will stop working\n",
      "  from collections import MutableMapping\n",
      "/opt/conda/envs/python35-paddle120-env/lib/python3.7/site-packages/matplotlib/rcsetup.py:20: DeprecationWarning: Using or importing the ABCs from 'collections' instead of from 'collections.abc' is deprecated, and in 3.8 it will stop working\n",
      "  from collections import Iterable, Mapping\n",
      "/opt/conda/envs/python35-paddle120-env/lib/python3.7/site-packages/matplotlib/colors.py:53: DeprecationWarning: Using or importing the ABCs from 'collections' instead of from 'collections.abc' is deprecated, and in 3.8 it will stop working\n",
      "  from collections import Sized\n",
      "2023-01-12 23:59:14,418 - INFO - font search path ['/opt/conda/envs/python35-paddle120-env/lib/python3.7/site-packages/matplotlib/mpl-data/fonts/ttf', '/opt/conda/envs/python35-paddle120-env/lib/python3.7/site-packages/matplotlib/mpl-data/fonts/afm', '/opt/conda/envs/python35-paddle120-env/lib/python3.7/site-packages/matplotlib/mpl-data/fonts/pdfcorefonts']\n",
      "2023-01-12 23:59:14,960 - INFO - generated new fontManager\n"
     ]
    },
    {
     "name": "stdout",
     "output_type": "stream",
     "text": [
      "2.0.2\n"
     ]
    }
   ],
   "source": [
    "import paddle\r\n",
    "from paddle.nn import Conv2D, Linear, Embedding\r\n",
    "from paddle import to_tensor\r\n",
    "import paddle.nn.functional as F\r\n",
    "import os, zipfile\r\n",
    "import io, random, json\r\n",
    "import numpy as np\r\n",
    "import matplotlib.pyplot as plt\r\n",
    "print(paddle.__version__)\r\n",
    "\r\n"
   ]
  },
  {
   "cell_type": "code",
   "execution_count": 2,
   "metadata": {
    "collapsed": false
   },
   "outputs": [
    {
     "name": "stdout",
     "output_type": "stream",
     "text": [
      "2.0.2\n"
     ]
    }
   ],
   "source": [
    "import paddle\r\n",
    "import numpy as np\r\n",
    "import matplotlib.pyplot as plt\r\n",
    "import paddle.nn as nn\r\n",
    "\r\n",
    "print(paddle.__version__)  # 查看当前版本\r\n",
    "\r\n",
    "# cpu/gpu环境选择，在 paddle.set_device() 输入对应运行设备。\r\n",
    "device = paddle.set_device('gpu')"
   ]
  },
  {
   "cell_type": "markdown",
   "metadata": {
    "collapsed": false
   },
   "source": [
    "# 二、数据准备\n",
    "\n",
    "（1）解压数据，读取并解析数据，生成all_data.txt\n",
    "\n",
    "（2）生成数据字典，即dict.txt\n",
    "\n",
    "（3）生成数据列表，并进行训练集与验证集的划分，train_list.txt 、eval_list.txt\n",
    "\n",
    "（4）定义训练数据集提供器"
   ]
  },
  {
   "cell_type": "code",
   "execution_count": 3,
   "metadata": {
    "collapsed": false
   },
   "outputs": [],
   "source": [
    "\n",
    "#解压原始数据集，将Rumor_Dataset.zip解压至data目录下\n",
    "src_path=\"data/data20519/Rumor_Dataset.zip\"\n",
    "target_path=\"/home/aistudio/data/Chinese_Rumor_Dataset-master\"\n",
    "if(not os.path.isdir(target_path)):\n",
    "    z = zipfile.ZipFile(src_path, 'r')\n",
    "    z.extractall(path=target_path)\n",
    "    z.close()\n",
    "\n",
    "\n",
    "\n"
   ]
  },
  {
   "cell_type": "code",
   "execution_count": 4,
   "metadata": {
    "collapsed": false
   },
   "outputs": [],
   "source": [
    "\r\n",
    "\r\n",
    "#数据文件路径\r\n",
    "rumor_class_dirs = os.listdir(target_path+\"/Chinese_Rumor_Dataset-master/CED_Dataset/rumor-repost/\")\r\n",
    "\r\n",
    "non_rumor_class_dirs = os.listdir(target_path+\"/Chinese_Rumor_Dataset-master/CED_Dataset/non-rumor-repost/\")\r\n",
    "original_microblog = target_path+\"/Chinese_Rumor_Dataset-master/CED_Dataset/original-microblog/\"\r\n",
    "\r\n",
    "rumor_label=\"0\"\r\n",
    "non_rumor_label=\"1\"\r\n",
    "\r\n",
    "\r\n",
    "rumor_num = 0\r\n",
    "non_rumor_num = 0\r\n",
    "all_rumor_list = []\r\n",
    "all_non_rumor_list = []\r\n",
    "\r\n",
    "#解析数据\r\n",
    "for rumor_class_dir in rumor_class_dirs: \r\n",
    "    if(rumor_class_dir != '.DS_Store'):\r\n",
    "        #遍历数据，并解析\r\n",
    "        with open(original_microblog + rumor_class_dir, 'r') as f:\r\n",
    "\t        rumor_content = f.read()\r\n",
    "        rumor_dict = json.loads(rumor_content)\r\n",
    "        all_rumor_list.append(rumor_label+\"\\t\"+rumor_dict[\"text\"]+\"\\n\")\r\n",
    "        rumor_num +=1\r\n",
    "\r\n",
    "#解析数据\r\n",
    "for non_rumor_class_dir in non_rumor_class_dirs: \r\n",
    "    if(non_rumor_class_dir != '.DS_Store'):\r\n",
    "        with open(original_microblog + non_rumor_class_dir, 'r') as f2:\r\n",
    "\t        non_rumor_content = f2.read()\r\n",
    "        non_rumor_dict = json.loads(non_rumor_content)\r\n",
    "        all_non_rumor_list.append(non_rumor_label+\"\\t\"+non_rumor_dict[\"text\"]+\"\\n\")\r\n",
    "        non_rumor_num +=1\r\n",
    "        "
   ]
  },
  {
   "cell_type": "code",
   "execution_count": 5,
   "metadata": {
    "collapsed": false
   },
   "outputs": [],
   "source": [
    "#全部数据进行乱序后写入all_data.txt\r\n",
    "\r\n",
    "data_list_path=\"/home/aistudio/data/\"\r\n",
    "all_data_path=data_list_path + \"all_data.txt\"\r\n",
    "\r\n",
    "all_data_list = all_rumor_list + all_non_rumor_list\r\n",
    "\r\n",
    "random.shuffle(all_data_list)\r\n",
    "\r\n",
    "#在生成all_data.txt之前，首先将其清空\r\n",
    "with open(all_data_path, 'w') as f:\r\n",
    "    f.seek(0)\r\n",
    "    f.truncate() \r\n",
    "    \r\n",
    "with open(all_data_path, 'a') as f:\r\n",
    "    for data in all_data_list:\r\n",
    "        f.write(data) "
   ]
  },
  {
   "cell_type": "code",
   "execution_count": 6,
   "metadata": {
    "collapsed": false
   },
   "outputs": [],
   "source": [
    "# 生成数据字典\r\n",
    "def create_dict(data_path, dict_path):\r\n",
    "    with open(dict_path, 'w') as f:\r\n",
    "        f.seek(0)\r\n",
    "        f.truncate() \r\n",
    "\r\n",
    "    dict_set = set()\r\n",
    "    # 读取全部数据\r\n",
    "    with open(data_path, 'r', encoding='utf-8') as f:\r\n",
    "        lines = f.readlines()\r\n",
    "    # 把数据生成一个元组\r\n",
    "    for line in lines:\r\n",
    "        content = line.split('\\t')[-1].replace('\\n', '')\r\n",
    "        for s in content:\r\n",
    "            dict_set.add(s)\r\n",
    "    # 把元组转换成字典，一个字对应一个数字\r\n",
    "    dict_list = []\r\n",
    "    i = 0\r\n",
    "    for s in dict_set:\r\n",
    "        dict_list.append([s, i])\r\n",
    "        i += 1\r\n",
    "    # 添加未知字符\r\n",
    "    dict_txt = dict(dict_list)\r\n",
    "    end_dict = {\"<unk>\": i}\r\n",
    "    dict_txt.update(end_dict)\r\n",
    "    end_dict = {\"<pad>\": i+1}\r\n",
    "    dict_txt.update(end_dict)\r\n",
    "    # 把这些字典保存到本地中\r\n",
    "    with open(dict_path, 'w', encoding='utf-8') as f:\r\n",
    "        f.write(str(dict_txt))\r\n",
    "        \r\n",
    "    print(\"数据字典生成完成！\")\r\n"
   ]
  },
  {
   "cell_type": "code",
   "execution_count": 33,
   "metadata": {
    "collapsed": false
   },
   "outputs": [],
   "source": [
    "# 创建序列化表示的数据,并按照一定比例划分训练数据train_list.txt与验证数据eval_list.txt\r\n",
    "def load_vocab(file_path):\r\n",
    "    fr = open(file_path, 'r', encoding='utf8')\r\n",
    "    vocab = eval(fr.read())   #读取的str转换为字典\r\n",
    "    fr.close()\r\n",
    "\r\n",
    "    return vocab\r\n",
    "\r\n",
    "def f_write_txt(words, dict_txt, label):\r\n",
    "    labs = \"\"\r\n",
    "    for s in words:\r\n",
    "        lab = str(dict_txt[s])\r\n",
    "        labs = labs + lab + ','\r\n",
    "    labs = labs[:-1]\r\n",
    "    labs = labs + '\\t' + label + '\\n'\r\n",
    "    return labs\r\n",
    "\r\n",
    "def create_data_list(data_path, train_path, test_path, dict_path):\r\n",
    "    \r\n",
    "    dict_txt = load_vocab(dict_path)\r\n",
    "    with open(data_path, 'r', encoding='utf-8') as f_data:\r\n",
    "        lines = f_data.readlines()\r\n",
    "\r\n",
    "    i = 0\r\n",
    "    maxlen = 0\r\n",
    "    with open(test_path, 'a', encoding='utf-8') as f_eval,open(train_path, 'a', encoding='utf-8') as f_train:\r\n",
    "        for line in lines:\r\n",
    "            words = line.split('\\t')[-1].replace('\\n', '')\r\n",
    "            maxlen = max(maxlen, len(words))\r\n",
    "            label = line.split('\\t')[0]\r\n",
    "            labs = f_write_txt(words, dict_txt, label)\r\n",
    "            # 每8个 抽取一个数据用于验证\r\n",
    "            if i % 7 == 0:\r\n",
    "                f_eval.write(labs)\r\n",
    "            else:\r\n",
    "                f_train.write(labs)\r\n",
    "            i += 1\r\n",
    "    print(\"数据列表生成完成！\")\r\n",
    "    print(maxlen)\r\n",
    "\r\n",
    "\r\n"
   ]
  },
  {
   "cell_type": "code",
   "execution_count": 34,
   "metadata": {
    "collapsed": false
   },
   "outputs": [
    {
     "name": "stdout",
     "output_type": "stream",
     "text": [
      "数据字典生成完成！\n",
      "数据列表生成完成！\n",
      "226\n"
     ]
    }
   ],
   "source": [
    "# 把生成的数据列表都放在自己的总类别文件夹中\r\n",
    "data_root_path = \"/home/aistudio/data/\" \r\n",
    "data_path = os.path.join(data_root_path, 'all_data.txt')\r\n",
    "train_path = os.path.join(data_list_path, 'train_list.txt')\r\n",
    "test_path = os.path.join(data_list_path, 'eval_list.txt')\r\n",
    "dict_path = os.path.join(data_root_path, \"dict.txt\")\r\n",
    "\r\n",
    "# 创建数据字典\r\n",
    "create_dict(data_path, dict_path)\r\n",
    "\r\n",
    "# 创建数据列表\r\n",
    "\r\n",
    "#在生成数据之前，首先将eval_list.txt和train_list.txt清空\r\n",
    "with open(test_path, 'w', encoding='utf-8') as f_eval:\r\n",
    "    f_eval.seek(0)\r\n",
    "    f_eval.truncate()\r\n",
    "with open(train_path, 'w', encoding='utf-8') as f_train:\r\n",
    "    f_train.seek(0)\r\n",
    "    f_train.truncate() \r\n",
    "\r\n",
    "create_data_list(data_path, train_path, test_path, dict_path)\r\n",
    "\r\n"
   ]
  },
  {
   "cell_type": "code",
   "execution_count": 50,
   "metadata": {
    "collapsed": false
   },
   "outputs": [],
   "source": []
  },
  {
   "cell_type": "code",
   "execution_count": 35,
   "metadata": {
    "collapsed": false
   },
   "outputs": [
    {
     "name": "stdout",
     "output_type": "stream",
     "text": [
      "1:\n",
      "sentence list id is: ['3838', '1416', '2496', '3108', '1505', '1421', '3326', '1155', '1458', '1035', '101', '1581', '4285', '811', '1526', '1477', '4197', '3173', '1376', '2302', '1439', '4042', '2959', '1424', '1843', '1843', '3461', '415', '1747', '1747', '1843', '2546', '3395', '3628', '1747', '4273', '4134', '2853', '3395', '572', '70', '2853', '2959', '1026', '1416', '2674', '2551', '4088', '1787', '4248', '1264', '639', '2267', '3312', '2691', '4350', '3739', '1377', '1035', '101', '1581', '4285', '2914', '1416', '2674', '1505', '1421', '4133', '43', '218', '1081', '198', '218', '3389', '3937', '584', '2131', '2266', '3959', '2131', '965', '3014', '3312', '1416', '2674', '1505', '2448', '4289', '3406', '975', '1614', '177', '2095', '3538', '2104', '261', '4133', '2691', '1512', '1420', '4108', '2973', '797', '3612', '3312', '3289', '1978', '4108', '797', '3612', '441', '811', '3668', '3103', '3076', '1505', '1421', '4133', '3326', '1155', '1458', '1416', '2674', '3389', '971', '2266', '2790', '4197', '3312', '2019', '1233', '3076', '1477', '4197', '3173', '1376', '1505', '1421', '2302', '1439', '2501']\n",
      "sentence list is:  【 英 媒 曝 奥 运 开 幕 式 贝 克 汉 姆 有 望 亲 手 点 燃 圣 火 】   h t t p : / / t . c n / z W b c v e b   据 英 国 《 独 立 报 》 消 息 ， 为 了 感 谢 贝 克 汉 姆 在 英 国 奥 运 会 申 办 和 举 办 方 面 做 出 的 突 出 贡 献 ， 英 国 奥 组 委 主 席 科 伊 已 经 承 诺 会 为 他 一 个 新 角 色 ， 而 这 个 角 色 将 有 可 能 是 奥 运 会 开 幕 式 英 国 方 阵 的 旗 手 ， 甚 至 是 亲 手 点 燃 奥 运 圣 火 ！\n",
      "sentence label id is: 1\n",
      "---------------------------------\n",
      "2:\n",
      "sentence list id is: ['586', '3011', '3854', '3532', '4018', '413', '1503', '4281', '2026', '1420', '701', '1839', '413', '2860', '4350', '2501', '3854', '3532', '413', '1815', '2266', '3741', '2904', '2860', '3312', '4281', '2026', '2266', '3741', '3636', '413', '2860', '4350', '3312', '1978', '1697', '2494', '1400', '3312', '793', '1513', '3436', '1179', '1081', '1337', '4188', '2647', '811', '3415', '630', '2068', '671', '848', '2478', '1012', '308', '164', '2569', '1012', '308', '164', '2569', '2959', '646', '243', '3365', '196', '4133', '2959', '646', '527', '4188', '583', '3011', '870', '2959', '646', '3984', '3616', '2973', '2959']\n",
      "sentence list is:  今 天 台 湾 地 震 把 厦 门 一 高 层 震 歪 了 ！ 台 湾 震 中 的 楼 没 歪 ， 厦 门 的 楼 被 震 歪 了 ， 这 叫 啥 事 ， 且 看 政 府 和 专 家 又 有 何 雷 人 解 释 ？ [ 抓 狂 ] [ 抓 狂 ]   @ 阅 读 社 会   @ 作 家 - 天 佑   @ 任 卫 新  \n",
      "sentence label id is: 0\n",
      "---------------------------------\n"
     ]
    }
   ],
   "source": [
    "# 打印前2条训练数据\r\n",
    "vocab = load_vocab(dict_path)\r\n",
    "\r\n",
    "def ids_to_str(ids):\r\n",
    "    words = []\r\n",
    "    for k in ids:\r\n",
    "        w = list(vocab.keys())[list(vocab.values()).index(int(k))]\r\n",
    "        words.append(w if isinstance(w, str) else w.decode('ASCII'))\r\n",
    "    return \" \".join(words)\r\n",
    "\r\n",
    "with io.open(train_path, \"r\", encoding='utf8') as fin:\r\n",
    "        i = 0\r\n",
    "        for line in fin:\r\n",
    "            i += 1\r\n",
    "            cols = line.strip().split(\"\\t\")\r\n",
    "            if len(cols) != 2:\r\n",
    "                sys.stderr.write(\"[NOTICE] Error Format Line!\")\r\n",
    "                continue\r\n",
    "            label = int(cols[1])\r\n",
    "            wids = cols[0].split(\",\")\r\n",
    "            print(str(i)+\":\")\r\n",
    "            print('sentence list id is:', wids)\r\n",
    "            print('sentence list is: ', ids_to_str(wids))\r\n",
    "            print('sentence label id is:', label)\r\n",
    "            print('---------------------------------')\r\n",
    "            \r\n",
    "            if i == 2: break\r\n",
    "\r\n",
    "\r\n"
   ]
  },
  {
   "cell_type": "code",
   "execution_count": 36,
   "metadata": {
    "collapsed": false
   },
   "outputs": [
    {
     "name": "stdout",
     "output_type": "stream",
     "text": [
      "=============train_dataset =============\n",
      "[3838 1416 2496 3108 1505 1421 3326 1155 1458 1035  101 1581 4285  811\n",
      " 1526 1477 4197 3173 1376 2302 1439 4042 2959 1424 1843 1843 3461  415\n",
      " 1747 1747 1843 2546 3395 3628 1747 4273 4134 2853 3395  572   70 2853\n",
      " 2959 1026 1416 2674 2551 4088 1787 4248 1264  639 2267 3312 2691 4350\n",
      " 3739 1377 1035  101 1581 4285 2914 1416 2674 1505 1421 4133   43  218\n",
      " 1081  198  218 3389 3937  584 2131 2266 3959 2131  965 3014 3312 1416\n",
      " 2674 1505 2448 4289 3406  975 1614  177 2095 3538 2104  261 4133 2691\n",
      " 1512 1420 4108 2973  797 3612 3312 3289 1978 4108  797 3612  441  811\n",
      " 3668 3103 3076 1505 1421 4133 3326 1155 1458 1416 2674 3389  971 2266\n",
      " 2790 4197 3312 2019 1233 3076 1477 4197 3173 1376 1505 1421 2302 1439\n",
      " 2501 4410 4410 4410 4410 4410 4410 4410 4410 4410]\n",
      "(150,)\n",
      "[1]\n",
      "=============test_dataset =============\n",
      "[3838  197 2496 3554 2551  867 2416 2514 1843 3602  937   70 1264  811\n",
      " 1614 3890  724 1341 2959 2164  365  513 4406  723 1240 4042 3912  426\n",
      " 1121 2349  724 2691 1521 2887 3728 2877 2266 3184 2026  426 3383 2546\n",
      "  197 2496 3554 1752 1978 4363  426  842 4268  556  495 2269 2898  603\n",
      " 1210 1590 4352 1521 2887 1752 3637   96 2914 2354  811 2282 1614 3890\n",
      " 1596  724 1341  415 3422 1814 3127 2632  892 3447 2266 1896  799 2219\n",
      " 2090 3591 3448  314 4379  589 3730 1081  670 1893 4406 3538 3274 4011\n",
      " 2546 3253 1814 2590  513 4406 1614  723 1240 3358 3174 4200 2898 2164\n",
      "  365 4063 1752 1512 3828 1444 1838  670 2914 2389 3326  224 1663 3715\n",
      " 1288 1060 2067  314 4379 1596 2546 2546 2546 2546 3422 2959 1424 1843\n",
      " 1843 3461  415 1747 1747 1843 2546 3395 3628 1747]\n",
      "(150,)\n",
      "[1]\n"
     ]
    }
   ],
   "source": [
    "\r\n",
    "\r\n",
    "\r\n",
    "class RumorDataset(paddle.io.Dataset):\r\n",
    "    def __init__(self, data_dir):\r\n",
    "        self.data_dir = data_dir\r\n",
    "        self.all_data = []\r\n",
    "       \r\n",
    "        with io.open(self.data_dir, \"r\", encoding='utf8') as fin:\r\n",
    "            for line in fin:\r\n",
    "                cols = line.strip().split(\"\\t\")\r\n",
    "                if len(cols) != 2:\r\n",
    "                    sys.stderr.write(\"[NOTICE] Error Format Line!\")\r\n",
    "                    continue\r\n",
    "                label = []\r\n",
    "                label.append(int(cols[1]))\r\n",
    "                wids = cols[0].split(\",\")\r\n",
    "                if len(wids)>=150:\r\n",
    "                    wids = np.array(wids[:150]).astype('int64')     \r\n",
    "                else:\r\n",
    "                    wids = np.concatenate([wids, [vocab[\"<pad>\"]]*(150-len(wids))]).astype('int64')\r\n",
    "                label = np.array(label).astype('int64')\r\n",
    "                self.all_data.append((wids, label))\r\n",
    "\r\n",
    "        \r\n",
    "    def __getitem__(self, index):\r\n",
    "        data, label = self.all_data[index]\r\n",
    "        return data, label\r\n",
    "\r\n",
    "    def __len__(self):\r\n",
    "        return len(self.all_data)\r\n",
    "\r\n",
    "\r\n",
    "batch_size = 32\r\n",
    "train_dataset = RumorDataset(train_path)\r\n",
    "test_dataset = RumorDataset(test_path)\r\n",
    "\r\n",
    "train_loader = paddle.io.DataLoader(train_dataset, places=paddle.CPUPlace(), return_list=True,\r\n",
    "                                    shuffle=True, batch_size=batch_size, drop_last=True)\r\n",
    "test_loader = paddle.io.DataLoader(test_dataset, places=paddle.CPUPlace(), return_list=True,\r\n",
    "                                    shuffle=True, batch_size=batch_size, drop_last=True)\r\n",
    "\r\n",
    "\r\n",
    "\r\n",
    "\r\n",
    "#check\r\n",
    "\r\n",
    "print('=============train_dataset =============') \r\n",
    "for data, label in train_dataset:\r\n",
    "    print(data)\r\n",
    "    print(np.array(data).shape)\r\n",
    "    print(label)\r\n",
    "    break\r\n",
    "\r\n",
    "\r\n",
    "print('=============test_dataset =============') \r\n",
    "for data, label in test_dataset:\r\n",
    "    print(data)\r\n",
    "    print(np.array(data).shape)\r\n",
    "    print(label)\r\n",
    "    break\r\n",
    "\r\n",
    "\r\n"
   ]
  },
  {
   "cell_type": "code",
   "execution_count": 11,
   "metadata": {
    "collapsed": false
   },
   "outputs": [
    {
     "name": "stdout",
     "output_type": "stream",
     "text": [
      "4412\n"
     ]
    }
   ],
   "source": [
    "batch_size = 32\r\n",
    "epochs = 3\r\n",
    "\r\n",
    "#词汇表总数\r\n",
    "vocab_size = len(vocab) + 1\r\n",
    "print(vocab_size)\r\n",
    "\r\n",
    "\r\n",
    "emb_size = 256\r\n",
    "#句子固定长度\r\n",
    "seq_len = 150\r\n",
    "\r\n",
    "\r\n",
    "\r\n",
    "#补齐词的id编号\r\n",
    "pad_id = vocab[\"<pad>\"]\r\n",
    "\r\n",
    "#类别\r\n",
    "classes = ['negative', 'positive']"
   ]
  },
  {
   "cell_type": "code",
   "execution_count": 12,
   "metadata": {
    "collapsed": false
   },
   "outputs": [],
   "source": [
    "import paddle.nn as nn\r\n",
    "import paddle\r\n",
    "\r\n",
    "# 定义GRU网络\r\n",
    "class MyGRU(paddle.nn.Layer):\r\n",
    "    def __init__(self):\r\n",
    "        super(MyGRU, self).__init__()\r\n",
    "\r\n",
    "        #将词汇表中的每个词映射为256维向量，以避免one-hot编码带来的稀疏性\r\n",
    "        self.embedding = nn.Embedding(vocab_size, emb_size)\r\n",
    "\r\n",
    "        #定义模型\r\n",
    "        # 这里的input_size就是词向量的维度，hidden_size就是RNN隐藏层的维度\r\n",
    "        # 并不需要指定时间步数，也即seq_len，这是因为，GRU和LSTM都实现了自身的迭代\r\n",
    "        self.gru = nn.GRU(input_size=emb_size, hidden_size=256, num_layers=2, direction='bidirectional',dropout=0.5)\r\n",
    "        self.linear = nn.Linear(in_features=256*2, out_features=2)  #二分类问题，情感分为积极和消极\r\n",
    "        self.dropout = nn.Dropout(p=0.5)\r\n",
    "    \r\n",
    "\r\n",
    "    def forward(self, inputs):\r\n",
    "        \r\n",
    "        #词嵌入\r\n",
    "        #inputs大小为句子长度*embedding向量大小=200*256\r\n",
    "        #emb大小为 [32, 200, 256]\r\n",
    "        emb = self.dropout(self.embedding(inputs))\r\n",
    "\r\n",
    "        #调用gru        \r\n",
    "        output, hidden = self.gru(emb)\r\n",
    "        #output形状大小为[32, 200, 512]=[batch_size,seq_len,num_directions * hidden_size]\r\n",
    "        #hidden形状大小为[4, 32, 256]=[num_layers * num_directions, batch_size, hidden_size]\r\n",
    "\r\n",
    "        #把前向的hidden与后向的hidden（大小为[32, 256]）合并在一起，对axis=1进行运算\r\n",
    "        hidden = paddle.concat((hidden[-2,:,:], hidden[-1,:,:]), axis = 1)\r\n",
    "        #合并后，hidden形状大小为[32, 512]=[batch_size, hidden_size * num_directions]        \r\n",
    "\r\n",
    "        hidden = self.dropout(hidden)\r\n",
    "        return self.linear(hidden)"
   ]
  },
  {
   "cell_type": "code",
   "execution_count": 13,
   "metadata": {
    "collapsed": false
   },
   "outputs": [],
   "source": [
    "# 可视化定义\r\n",
    "def draw_process(title,color,iters,data,label):\r\n",
    "    plt.title(title, fontsize=24)\r\n",
    "    plt.xlabel(\"iter\", fontsize=20)\r\n",
    "    plt.ylabel(label, fontsize=20)\r\n",
    "    plt.plot(iters, data,color=color,label=label) \r\n",
    "    plt.legend()\r\n",
    "    plt.grid()\r\n",
    "    plt.show()"
   ]
  },
  {
   "cell_type": "code",
   "execution_count": 37,
   "metadata": {
    "collapsed": false
   },
   "outputs": [
    {
     "name": "stderr",
     "output_type": "stream",
     "text": [
      "/opt/conda/envs/python35-paddle120-env/lib/python3.7/site-packages/paddle/fluid/dataloader/dataloader_iter.py:89: DeprecationWarning: `np.bool` is a deprecated alias for the builtin `bool`. To silence this warning, use `bool` by itself. Doing this will not modify any behavior and is safe. If you specifically wanted the numpy scalar type, use `np.bool_` here.\n",
      "Deprecated in NumPy 1.20; for more details and guidance: https://numpy.org/devdocs/release/1.20.0-notes.html#deprecations\n",
      "  if isinstance(slot[0], (np.ndarray, np.bool, numbers.Number)):\n"
     ]
    },
    {
     "name": "stdout",
     "output_type": "stream",
     "text": [
      "epoch: 0, batch_id: 0, loss is: [0.7221323]\n",
      "epoch: 0, batch_id: 9, loss is: [0.6840248]\n",
      "epoch: 0, batch_id: 18, loss is: [0.6523112]\n",
      "epoch: 0, batch_id: 27, loss is: [0.72411]\n",
      "epoch: 0, batch_id: 36, loss is: [0.6675221]\n",
      "epoch: 0, batch_id: 45, loss is: [0.6484275]\n",
      "epoch: 0, batch_id: 54, loss is: [0.9082935]\n",
      "epoch: 0, batch_id: 63, loss is: [0.5325916]\n",
      "epoch: 0, batch_id: 72, loss is: [0.74838877]\n",
      "epoch: 0, batch_id: 81, loss is: [0.52809227]\n",
      "[validation] accuracy: 0.7458333373069763, loss: 0.4981584846973419\n",
      "epoch: 1, batch_id: 0, loss is: [0.3233896]\n",
      "epoch: 1, batch_id: 9, loss is: [0.54009837]\n",
      "epoch: 1, batch_id: 18, loss is: [0.48239464]\n",
      "epoch: 1, batch_id: 27, loss is: [0.48002735]\n",
      "epoch: 1, batch_id: 36, loss is: [0.22664317]\n",
      "epoch: 1, batch_id: 45, loss is: [0.21682525]\n",
      "epoch: 1, batch_id: 54, loss is: [0.36752892]\n",
      "epoch: 1, batch_id: 63, loss is: [0.42825824]\n",
      "epoch: 1, batch_id: 72, loss is: [0.45319408]\n",
      "epoch: 1, batch_id: 81, loss is: [0.3583773]\n",
      "[validation] accuracy: 0.8374999761581421, loss: 0.37688395380973816\n",
      "epoch: 2, batch_id: 0, loss is: [0.275298]\n",
      "epoch: 2, batch_id: 9, loss is: [0.17662644]\n",
      "epoch: 2, batch_id: 18, loss is: [0.19658884]\n",
      "epoch: 2, batch_id: 27, loss is: [0.15157484]\n",
      "epoch: 2, batch_id: 36, loss is: [0.13445053]\n",
      "epoch: 2, batch_id: 45, loss is: [0.2406293]\n",
      "epoch: 2, batch_id: 54, loss is: [0.24191457]\n",
      "epoch: 2, batch_id: 63, loss is: [0.14551428]\n",
      "epoch: 2, batch_id: 72, loss is: [0.42514184]\n",
      "epoch: 2, batch_id: 81, loss is: [0.2096236]\n",
      "[validation] accuracy: 0.831250011920929, loss: 0.440731942653656\n"
     ]
    },
    {
     "data": {
      "image/png": "[encoded data removed]",
      "text/plain": [
       "<Figure size 640x480 with 1 Axes>"
      ]
     },
     "metadata": {},
     "output_type": "display_data"
    },
    {
     "data": {
      "image/png": "[encoded data removed]",
      "text/plain": [
       "<Figure size 640x480 with 1 Axes>"
      ]
     },
     "metadata": {},
     "output_type": "display_data"
    },
    {
     "name": "stdout",
     "output_type": "stream",
     "text": [
      "13.013412714004517\n"
     ]
    }
   ],
   "source": [
    "# 对模型进行封装\r\n",
    "def train(model):\r\n",
    "    model.train()\r\n",
    "    opt = paddle.optimizer.Adam(learning_rate=0.001, parameters=model.parameters())\r\n",
    "    steps = 0\r\n",
    "    \r\n",
    "\r\n",
    "    for epoch in range(epochs):\r\n",
    "        for batch_id, data in enumerate(train_loader):\r\n",
    "            steps += 1\r\n",
    "            #每次送入一个batch的数据,sent大小为[32, 200]\r\n",
    "            sent = data[0]\r\n",
    "            label = data[1]            \r\n",
    "            #送入模型            \r\n",
    "            logits = model(sent)\r\n",
    "            loss = paddle.nn.functional.cross_entropy(logits, label)\r\n",
    "            acc = paddle.metric.accuracy(logits, label)\r\n",
    "\r\n",
    "            if batch_id % 9 == 0:  # 500个epoch输出一次结果\r\n",
    "                Iters.append(steps)\r\n",
    "                total_loss.append(loss.numpy()[0])\r\n",
    "                total_acc.append(acc.numpy()[0])\r\n",
    "\r\n",
    "                print(\"epoch: {}, batch_id: {}, loss is: {}\".format(epoch, batch_id, loss.numpy()))\r\n",
    "            \r\n",
    "            loss.backward()\r\n",
    "            opt.step()\r\n",
    "            opt.clear_grad()\r\n",
    "\r\n",
    "        # evaluate model after one epoch\r\n",
    "        model.eval()\r\n",
    "        accuracies = []\r\n",
    "        losses = []\r\n",
    "        \r\n",
    "        for batch_id, data in enumerate(test_loader):\r\n",
    "            \r\n",
    "            sent = data[0]\r\n",
    "            label = data[1]\r\n",
    "\r\n",
    "            logits = model(sent)\r\n",
    "            loss = paddle.nn.functional.cross_entropy(logits, label)\r\n",
    "            acc = paddle.metric.accuracy(logits, label)\r\n",
    "            \r\n",
    "            accuracies.append(acc.numpy())\r\n",
    "            losses.append(loss.numpy())\r\n",
    "        \r\n",
    "        avg_acc, avg_loss = np.mean(accuracies), np.mean(losses)\r\n",
    "\r\n",
    "        print(\"[validation] accuracy: {}, loss: {}\".format(avg_acc, avg_loss))\r\n",
    "        \r\n",
    "        model.train()\r\n",
    "\r\n",
    "        # 保存模型\r\n",
    "    paddle.save(model.state_dict(),\"gru_model_final.pdparams\")\r\n",
    "    \r\n",
    "    # 可视化查看\r\n",
    "    draw_process(\"trainning loss\",\"red\",Iters,total_loss,\"trainning loss\")\r\n",
    "    draw_process(\"trainning acc\",\"green\",Iters,total_acc,\"trainning acc\")\r\n",
    "\r\n",
    "Iters, total_loss, total_acc = [], [], []\r\n",
    "import time\r\n",
    "a = time.time()    \r\n",
    "model = MyGRU()\r\n",
    "train(model)\r\n",
    "b = time.time()\r\n",
    "print(b-a)"
   ]
  },
  {
   "cell_type": "code",
   "execution_count": 24,
   "metadata": {
    "collapsed": false
   },
   "outputs": [],
   "source": [
    "f1 = open(\"loss.txt\",\"w\")\r\n",
    "for line in total_loss:\r\n",
    "    f1.write(str(line)+\"\\n\")\r\n",
    "f1.close()"
   ]
  },
  {
   "cell_type": "code",
   "execution_count": 38,
   "metadata": {
    "collapsed": false
   },
   "outputs": [
    {
     "name": "stderr",
     "output_type": "stream",
     "text": [
      "/opt/conda/envs/python35-paddle120-env/lib/python3.7/site-packages/numpy/core/_asarray.py:102: VisibleDeprecationWarning: Creating an ndarray from nested sequences exceeding the maximum number of dimensions of 32 is deprecated. If you mean to do this, you must specify 'dtype=object' when creating the ndarray.\n",
      "  return array(a, dtype, copy=False, order=order)\n"
     ]
    },
    {
     "name": "stdout",
     "output_type": "stream",
     "text": [
      "              precision    recall  f1-score   support\n",
      "\n",
      "           0     0.8026    0.8423    0.8220       222\n",
      "           1     0.8583    0.8217    0.8396       258\n",
      "\n",
      "    accuracy                         0.8313       480\n",
      "   macro avg     0.8304    0.8320    0.8308       480\n",
      "weighted avg     0.8325    0.8313    0.8315       480\n",
      "\n"
     ]
    }
   ],
   "source": [
    "import numpy as np\r\n",
    "from sklearn.metrics import confusion_matrix\r\n",
    "model_state_dict = paddle.load('gru_model_final.pdparams')\r\n",
    "model = MyGRU()\r\n",
    "model.set_state_dict(model_state_dict) \r\n",
    "model.eval()\r\n",
    "predictions = []\r\n",
    "r = []\r\n",
    "for batch_id, data in enumerate(test_loader):\r\n",
    "    \r\n",
    "    sent = data[0]\r\n",
    "    gt_labels = data[1].numpy()\r\n",
    "    for i in gt_labels:\r\n",
    "        r.append(i)\r\n",
    "    results = model(sent)\r\n",
    "    for probs in results:\r\n",
    "        # 映射分类label\r\n",
    "        idx = np.argmax(probs)\r\n",
    "        predictions.append(idx)\r\n",
    "    \r\n",
    "confusion_matrix(r, predictions)\r\n",
    "from sklearn.metrics import classification_report\r\n",
    "target_names = [\"0\",\"1\"]\r\n",
    "CR=classification_report(r, predictions, target_names=target_names,digits=4)\r\n",
    "print(CR)"
   ]
  }
 ],
 "metadata": {
  "kernelspec": {
   "display_name": "Python 3",
   "language": "python",
   "name": "py35-paddle1.2.0"
  },
  "language_info": {
   "codemirror_mode": {
    "name": "ipython",
    "version": 3
   },
   "file_extension": ".py",
   "mimetype": "text/x-python",
   "name": "python",
   "nbconvert_exporter": "python",
   "pygments_lexer": "ipython3",
   "version": "3.7.4"
  }
 },
 "nbformat": 4,
 "nbformat_minor": 1
}
