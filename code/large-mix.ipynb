{
 "cells": [
  {
   "cell_type": "code",
   "execution_count": 1,
   "metadata": {
    "execution": {
     "iopub.execute_input": "2023-01-31T03:37:25.094398Z",
     "iopub.status.busy": "2023-01-31T03:37:25.093936Z",
     "iopub.status.idle": "2023-01-31T03:37:26.583975Z",
     "shell.execute_reply": "2023-01-31T03:37:26.583226Z",
     "shell.execute_reply.started": "2023-01-31T03:37:25.094370Z"
    },
    "scrolled": true
   },
   "outputs": [
    {
     "name": "stderr",
     "output_type": "stream",
     "text": [
      "/opt/conda/envs/python35-paddle120-env/lib/python3.7/site-packages/paddle/fluid/layers/utils.py:26: DeprecationWarning: `np.int` is a deprecated alias for the builtin `int`. To silence this warning, use `int` by itself. Doing this will not modify any behavior and is safe. When replacing `np.int`, you may wish to use e.g. `np.int64` or `np.int32` to specify the precision. If you wish to review your current use, check the release note link for additional information.\r\n",
      "Deprecated in NumPy 1.20; for more details and guidance: https://numpy.org/devdocs/release/1.20.0-notes.html#deprecations\r\n",
      "  def convert_to_list(value, n, name, dtype=np.int):\r\n"
     ]
    },
    {
     "name": "stdout",
     "output_type": "stream",
     "text": [
      "2.0.2\r\n"
     ]
    },
    {
     "name": "stderr",
     "output_type": "stream",
     "text": [
      "/opt/conda/envs/python35-paddle120-env/lib/python3.7/site-packages/matplotlib/__init__.py:107: DeprecationWarning: Using or importing the ABCs from 'collections' instead of from 'collections.abc' is deprecated, and in 3.8 it will stop working\r\n",
      "  from collections import MutableMapping\r\n",
      "/opt/conda/envs/python35-paddle120-env/lib/python3.7/site-packages/matplotlib/rcsetup.py:20: DeprecationWarning: Using or importing the ABCs from 'collections' instead of from 'collections.abc' is deprecated, and in 3.8 it will stop working\r\n",
      "  from collections import Iterable, Mapping\r\n",
      "/opt/conda/envs/python35-paddle120-env/lib/python3.7/site-packages/matplotlib/colors.py:53: DeprecationWarning: Using or importing the ABCs from 'collections' instead of from 'collections.abc' is deprecated, and in 3.8 it will stop working\r\n",
      "  from collections import Sized\r\n"
     ]
    }
   ],
   "source": [
    "import paddle\n",
    "from paddle.nn import Conv2D, Linear, Embedding\n",
    "from paddle import to_tensor\n",
    "import paddle.nn.functional as F\n",
    "import os, zipfile\n",
    "import io, random, json\n",
    "import numpy as np\n",
    "import matplotlib.pyplot as plt\n",
    "print(paddle.__version__)"
   ]
  },
  {
   "cell_type": "code",
   "execution_count": 30,
   "metadata": {
    "execution": {
     "iopub.execute_input": "2023-01-11T08:55:58.579448Z",
     "iopub.status.busy": "2023-01-11T08:55:58.578599Z",
     "iopub.status.idle": "2023-01-11T08:55:59.244396Z",
     "shell.execute_reply": "2023-01-11T08:55:59.243547Z",
     "shell.execute_reply.started": "2023-01-11T08:55:58.579413Z"
    },
    "scrolled": true,
    "tags": []
   },
   "outputs": [],
   "source": [
    "all_data_path= \"all_data.txt\"\n",
    "f = open(all_data_path,\"w\")\n",
    "i = 1\n",
    "with open('train.txt','r') as f1:\n",
    "    line =f1.readline()\n",
    "    while line:\n",
    "        lable = line[-2]\n",
    "        if int(lable) == 2:\n",
    "            break\n",
    "        else:\n",
    "            data = lable+'\\t'+line[0:-3]+'\\n'\n",
    "            f.writelines(data)\n",
    "            line=f1.readline()\n",
    "\n",
    "with open('dev.txt','r') as f2:\n",
    "    line =f2.readline()\n",
    "    while line:\n",
    "        lable = line[-2]\n",
    "        if int(lable) == 2:\n",
    "            break\n",
    "        else:\n",
    "            data = lable+'\\t'+line[0:-3]+'\\n'\n",
    "            f.writelines(data)\n",
    "            line=f2.readline()\n",
    "\n",
    "with open('test.txt','r') as f3:\n",
    "    line =f3.readline()\n",
    "    while line:\n",
    "        lable = line[-2]\n",
    "        if int(lable) == 2:\n",
    "            break\n",
    "        else:\n",
    "            data = lable+'\\t'+line[0:-3]+'\\n'\n",
    "            f.writelines(data)\n",
    "            line=f3.readline()\n",
    "\n",
    "f.close()"
   ]
  },
  {
   "cell_type": "code",
   "execution_count": 24,
   "metadata": {
    "execution": {
     "iopub.execute_input": "2023-01-31T03:47:41.338171Z",
     "iopub.status.busy": "2023-01-31T03:47:41.337430Z",
     "iopub.status.idle": "2023-01-31T03:47:41.344539Z",
     "shell.execute_reply": "2023-01-31T03:47:41.343911Z",
     "shell.execute_reply.started": "2023-01-31T03:47:41.338144Z"
    },
    "scrolled": true
   },
   "outputs": [],
   "source": [
    "# 生成数据字典\n",
    "def create_dict(data_path, dict_path):\n",
    "    with open(dict_path, 'w') as f:\n",
    "        f.seek(0)\n",
    "        f.truncate() \n",
    "\n",
    "    dict_set = set()\n",
    "    # 读取全部数据\n",
    "    with open(data_path, 'r', encoding='utf-8') as f:\n",
    "        lines = f.readlines()\n",
    "    # 把数据生成一个元组\n",
    "    for line in lines:\n",
    "        content = line.split('\\t')[-1].replace('\\n', '')\n",
    "        for s in content:\n",
    "            dict_set.add(s)\n",
    "    # 把元组转换成字典，一个字对应一个数字\n",
    "    dict_list = []\n",
    "    i = 0\n",
    "    for s in dict_set:\n",
    "        dict_list.append([s, i])\n",
    "        i += 1\n",
    "    # 添加未知字符\n",
    "    dict_txt = dict(dict_list)\n",
    "    end_dict = {\"<unk>\": i}\n",
    "    dict_txt.update(end_dict)\n",
    "    end_dict = {\"<pad>\": i+1}\n",
    "    dict_txt.update(end_dict)\n",
    "    # 把这些字典保存到本地中\n",
    "    with open(dict_path, 'w', encoding='utf-8') as f:\n",
    "        f.write(str(dict_txt))\n",
    "        \n",
    "    print(\"数据字典生成完成！\")"
   ]
  },
  {
   "cell_type": "code",
   "execution_count": 25,
   "metadata": {
    "execution": {
     "iopub.execute_input": "2023-01-31T03:47:44.462967Z",
     "iopub.status.busy": "2023-01-31T03:47:44.462239Z",
     "iopub.status.idle": "2023-01-31T03:47:44.471095Z",
     "shell.execute_reply": "2023-01-31T03:47:44.470473Z",
     "shell.execute_reply.started": "2023-01-31T03:47:44.462939Z"
    },
    "scrolled": true
   },
   "outputs": [],
   "source": [
    "# 创建序列化表示的数据,并按照一定比例划分训练数据train_list.txt与验证数据eval_list.txt\n",
    "def load_vocab(file_path):\n",
    "    fr = open(file_path, 'r', encoding='utf8')\n",
    "    vocab = eval(fr.read())   #读取的str转换为字典\n",
    "    fr.close()\n",
    "\n",
    "    return vocab\n",
    "\n",
    "def f_write_txt(words, dict_txt, label):\n",
    "    labs = \"\"\n",
    "    for s in words:\n",
    "        lab = str(dict_txt[s])\n",
    "        labs = labs + lab + ','\n",
    "    labs = labs[:-1]\n",
    "    labs = labs + '\\t' + label + '\\n'\n",
    "    return labs\n",
    "\n",
    "def create_data_list(data_path, train_path, test_path, eval_path, dict_path):\n",
    "    \n",
    "    dict_txt = load_vocab(dict_path)\n",
    "    with open(data_path, 'r', encoding='utf-8') as f_data:\n",
    "        lines = f_data.readlines()\n",
    "\n",
    "    i = 0\n",
    "    maxlen = 0\n",
    "    with open(test_path, 'a', encoding='utf-8') as f_test,open(train_path, 'a', encoding='utf-8') as f_train, open(eval_path, 'a', encoding='utf-8') as f_eval:\n",
    "        for line in lines:\n",
    "            words = line.split('\\t')[-1].replace('\\n', '')\n",
    "            maxlen = max(maxlen, len(words))\n",
    "            label = line.split('\\t')[0]\n",
    "            labs = f_write_txt(words, dict_txt, label)\n",
    "            # 每8个 抽取一个数据用于验证\n",
    "            if i % 6 == 0:\n",
    "                f_test.write(labs)\n",
    "            if i % 6 == 0:\n",
    "                f_eval.write(labs)\n",
    "            else:\n",
    "                f_train.write(labs)\n",
    "            i += 1\n",
    "    print(\"数据列表生成完成！\")\n",
    "    print(maxlen)\n"
   ]
  },
  {
   "cell_type": "code",
   "execution_count": 26,
   "metadata": {
    "execution": {
     "iopub.execute_input": "2023-01-31T03:47:51.241795Z",
     "iopub.status.busy": "2023-01-31T03:47:51.241211Z",
     "iopub.status.idle": "2023-01-31T03:47:53.473867Z",
     "shell.execute_reply": "2023-01-31T03:47:53.473112Z",
     "shell.execute_reply.started": "2023-01-31T03:47:51.241767Z"
    },
    "scrolled": true
   },
   "outputs": [
    {
     "name": "stdout",
     "output_type": "stream",
     "text": [
      "数据字典生成完成！\r\n",
      "数据列表生成完成！\r\n",
      "4292\r\n"
     ]
    }
   ],
   "source": [
    "data_root_path = \"/home/aistudio/\" \n",
    "data_list_path = \"/home/aistudio/\" \n",
    "data_path = os.path.join(data_root_path, 'all_data.txt')\n",
    "train_path = os.path.join(data_list_path, 'train.txt')\n",
    "test_path = os.path.join(data_list_path, 'test.txt')\n",
    "eval_path = os.path.join(data_list_path, 'dev.txt')\n",
    "dict_path = os.path.join(data_root_path, \"dict.txt\")\n",
    "\n",
    "# 创建数据字典\n",
    "create_dict(data_path, dict_path)\n",
    "\n",
    "# 创建数据列表\n",
    "\n",
    "#在生成数据之前，首先将eval_list.txt和train_list.txt清空\n",
    "with open(test_path, 'w', encoding='utf-8') as f_test:\n",
    "    f_test.seek(0)\n",
    "    f_test.truncate()\n",
    "with open(train_path, 'w', encoding='utf-8') as f_train:\n",
    "    f_train.seek(0)\n",
    "    f_train.truncate() \n",
    "with open(eval_path, 'w', encoding='utf-8') as f_eval:\n",
    "    f_eval.seek(0)\n",
    "    f_eval.truncate() \n",
    "\n",
    "create_data_list(data_path, train_path, test_path ,eval_path, dict_path)\n"
   ]
  },
  {
   "cell_type": "code",
   "execution_count": 27,
   "metadata": {
    "execution": {
     "iopub.execute_input": "2023-01-31T03:48:00.555823Z",
     "iopub.status.busy": "2023-01-31T03:48:00.555087Z",
     "iopub.status.idle": "2023-01-31T03:48:00.660430Z",
     "shell.execute_reply": "2023-01-31T03:48:00.659756Z",
     "shell.execute_reply.started": "2023-01-31T03:48:00.555796Z"
    },
    "scrolled": true
   },
   "outputs": [
    {
     "name": "stdout",
     "output_type": "stream",
     "text": [
      "1:\r\n",
      "sentence list id is: ['4256', '3635', '7465', '1659', '2059', '5066', '5693', '4985', '4256', '3635', '5954', '273', '2059', '6894', '1226', '960', '2255', '1783', '4554', '5035', '6305', '2408', '4487', '4256', '3635', '5954', '273', '2059', '750', '7509', '2870', '1405', '4590', '179', '4176', '4619', '1327', '6811', '1788', '4487', '4256', '3635', '5954', '273', '2059', '5066', '5693', '4985', '4256', '3635', '7465', '1659', '2059', '920', '4409', '4287', '5647', '5263', '179', '2349', '4873', '4176', '4619', '5622', '1332', '2151', '4256', '3635', '7465', '1659', '7465', '177', '2956', '1329', '3395', '3859', '2079', '4256', '3635', '7465', '1659', '5540', '6302', '5374', '3052', '179', '737', '237', '6756', '4379', '6048', '4256', '3635', '1327', '6102', '5894', '820', '1746', '1838', '1469', '2631', '5784', '7509', '6048', '4256', '3635', '5954', '273', '2059', '179', '6305', '6050', '1363', '2870', '1405', '4590', '7163', '7509', '6894', '1226', '960', '2255', '1783', '4554', '2\r\n",
      "sentence list is:  失 业 保 险 金 不 等 于 失 业 补 助 金 。 [ S E P ] 原 标 题 ： 失 业 补 助 金 每 月 3 5 元 ， 桂 林 人 社 局 ： 失 业 补 助 金 不 等 于 失 业 保 险 金 据 媒 体 报 道 ， 广 西 桂 林 市 扩 大 失 业 保 险 保 障 范 围 和 实 施 失 业 保 险 稳 岗 计 划 ， 符 合 条 件 的 失 业 人 员 可 申 请 领 取 6 个 月 的 失 业 补 助 金 ， 标 准 为 3 5 元 / 月 。 [ S E P ] ” 该 工 作 人 员 解 释 ， 失 业 补 助 金 不 等 于 失 业 保 险 金 。 [ S E P ] 答 ： 按 政 策 规 定 ， 失 业 保 险 金 和 失 业 补 助 金 不 可 以 同 时 领 取 。 [ S E P ] 今 年 6 月 ， 人 力 资 源 和 社 会 保 障 部 、 财 政 部 下 发 《 关 于 扩 大 失 业 保 险 保 障 范 围 的 通 知 》 ， 规 定 从 2 0 2 0 年 3 月 至 1 2 月 ， 领 取 失 业 保 险 金 期 满 仍 未 就 业 的 失 业 人 员 、 不 符 合 领 取 失 业 保 险 金 条 件 的 参 保 失 业 人 员 ， 可 以 申 领 6 个 月 的 失 业 补 助 金 ， 标 准 不 超 过 当 地 失 业 保 险 金 的 8 0 ％ 。 [ S E P ] 上 游 新 闻 记 者 王 敏 返 回 搜 狐 ， 查 看 更 多 责 任 编 辑 ：\r\n",
      "sentence label id is: 0\r\n",
      "---------------------------------\r\n",
      "2:\r\n",
      "sentence list id is: ['1818', '1482', '7742', '6682', '3306', '3918', '2059', '5668', '3229', '6908', '1499', '4128', '3607', '3580', '6894', '1226', '960', '2255', '1783', '4554', '1327', '5356', '3800', '4518', '3395', '6811', '7441', '7465', '177', '4444', '2207', '2994', '3255', '6874', '6680', '179', '7465', '3607', '3580', '4659', '6602', '6782', '4367', '110', '6050', '2747', '3395', '2018', '4091', '179', '4871', '4853', '728', '4730', '7156', '4427', '6048', '501', '3429', '5751', '58', '179', '5668', '3106', '5581', '7465', '6490', '3635', '1818', '1482', '7742', '6682', '3306', '3918', '2059', '3229', '6908', '1499', '4128', '3607', '3580', '6894', '1226', '960', '2255', '1783', '4554', '5035', '6305', '2408', '4487', '1818', '1482', '7742', '6682', '3306', '3918', '2059', '5668', '6169', '3229', '6908', '1499', '4128', '3607', '3580', '494', '1226', '960', '2255', '1783', '4554', '6223', '4518', '4487', '4999', '495', '6811', '5193', '6874', '775', '4526', '179', '2449', '3\r\n",
      "sentence list is:  退 休 职 工 养 老 金 能 按 时 足 额 发 放 。 [ S E P ] 人 力 资 源 和 社 会 保 障 部 2 8 日 回 应 ， 保 发 放 提 前 进 行 了 准 备 和 安 排 ， 也 有 比 较 雄 厚 的 物 质 基 础 ， 能 够 确 保 企 业 退 休 职 工 养 老 金 按 时 足 额 发 放 。 [ S E P ] 原 标 题 ： 退 休 职 工 养 老 金 能 否 按 时 足 额 发 放 ？ [ S E P ] 来 源 ： 新 华 社 返 回 搜 狐 ， 查 看 更 多 责 任 编 辑 ： [ S E P ] ” 聂 明 隽 说 。 [ S E P ] 人 社 部 回 应 了 ！\r\n",
      "sentence label id is: 0\r\n",
      "---------------------------------\r\n"
     ]
    }
   ],
   "source": [
    "# 打印前2条训练数据\n",
    "vocab = load_vocab(dict_path)\n",
    "\n",
    "def ids_to_str(ids):\n",
    "    words = []\n",
    "    for k in ids:\n",
    "        w = list(vocab.keys())[list(vocab.values()).index(int(k))]\n",
    "        words.append(w if isinstance(w, str) else w.decode('ASCII'))\n",
    "    return \" \".join(words)\n",
    "\n",
    "with io.open(train_path, \"r\", encoding='utf8') as fin:\n",
    "        i = 0\n",
    "        for line in fin:\n",
    "            i += 1\n",
    "            cols = line.strip().split(\"\\t\")\n",
    "            if len(cols) != 2:\n",
    "                sys.stderr.write(\"[NOTICE] Error Format Line!\")\n",
    "                continue\n",
    "            label = int(cols[1])\n",
    "            wids = cols[0].split(\",\")\n",
    "            print(str(i)+\":\")\n",
    "            print('sentence list id is:', wids)\n",
    "            print('sentence list is: ', ids_to_str(wids))\n",
    "            print('sentence label id is:', label)\n",
    "            print('---------------------------------')\n",
    "            \n",
    "            if i == 2: break\n"
   ]
  },
  {
   "cell_type": "code",
   "execution_count": 28,
   "metadata": {
    "execution": {
     "iopub.execute_input": "2023-01-31T03:48:06.575215Z",
     "iopub.status.busy": "2023-01-31T03:48:06.574478Z",
     "iopub.status.idle": "2023-01-31T03:48:07.380867Z",
     "shell.execute_reply": "2023-01-31T03:48:07.380194Z",
     "shell.execute_reply.started": "2023-01-31T03:48:06.575187Z"
    },
    "scrolled": true
   },
   "outputs": [
    {
     "name": "stdout",
     "output_type": "stream",
     "text": [
      "=============train_dataset =============\r\n",
      "[4256 3635 7465 1659 2059 5066 5693 4985 4256 3635 5954  273 2059 6894\r\n",
      " 1226  960 2255 1783 4554 5035 6305 2408 4487 4256 3635 5954  273 2059\r\n",
      "  750 7509 2870 1405 4590  179 4176 4619 1327 6811 1788 4487 4256 3635\r\n",
      " 5954  273 2059 5066 5693 4985 4256 3635 7465 1659 2059  920 4409 4287\r\n",
      " 5647 5263  179 2349 4873 4176 4619 5622 1332 2151 4256 3635 7465 1659\r\n",
      " 7465  177 2956 1329 3395 3859 2079 4256 3635 7465 1659 5540 6302 5374\r\n",
      " 3052  179  737  237 6756 4379 6048 4256 3635 1327 6102 5894  820 1746\r\n",
      " 1838 1469 2631 5784 7509 6048 4256 3635 5954  273 2059  179 6305 6050\r\n",
      " 1363 2870 1405 4590 7163 7509 6894 1226  960 2255 1783 4554 2540 6936\r\n",
      " 6682 2324 1327 6102 5632 1903  179 4256 3635 5954  273 2059 5066 5693\r\n",
      " 4985 4256 3635 7465 1659 2059 6894 1226  960 2255]\r\n",
      "(150,)\r\n",
      "[0]\r\n",
      "=============test_dataset =============\r\n",
      "[4999 1662  795 4119 6984 7446 1957 3859  316 3677 7117 6243 2685  668\r\n",
      "  179 5066 2296 3820 4280 3887 1692 2148 6894 1226  960 2255 1783 4554\r\n",
      " 4999 1662  795 4119 6984 7446 5992 1957 3721 3859  316 3677 7117 6243\r\n",
      " 2685  668  179 6968 1625 2888 4041 6930 6048 2049 4311 2535 6917  179\r\n",
      " 4871 5066 2296 3820 2151 1205 6048 7285 2049  795 6682 2540 6894 1226\r\n",
      "  960 2255 1783 4554 3958 3178 3859 3101 5984 4999 1662  795 4119 4487\r\n",
      " 6984 7446 5992 1957 3677 7117 6243 2685  668  179 5066 2296 3820 2151\r\n",
      " 1205 6048 7285 2049  795 6682 2540  920 4999 1662 5274 3635 4444 6983\r\n",
      " 3607 3538 6048 2207 1206 2207 1206 1874 5210  920 1955  838  179 4999\r\n",
      " 1662  795 4119 6243 2685 2049 4311 7097 1957 3226 2631 1211 4451 2994\r\n",
      " 2870 3333  179  785 1220 5085 1662 1211 1405 3333]\r\n",
      "(150,)\r\n",
      "[0]\r\n"
     ]
    }
   ],
   "source": [
    "\n",
    "\n",
    "\n",
    "class RumorDataset(paddle.io.Dataset):\n",
    "    def __init__(self, data_dir):\n",
    "        self.data_dir = data_dir\n",
    "        self.all_data = []\n",
    "       \n",
    "        with io.open(self.data_dir, \"r\", encoding='utf8') as fin:\n",
    "            for line in fin:\n",
    "                cols = line.strip().split(\"\\t\")\n",
    "                if len(cols) != 2:\n",
    "                    sys.stderr.write(\"[NOTICE] Error Format Line!\")\n",
    "                    continue\n",
    "                label = []\n",
    "                label.append(int(cols[1]))\n",
    "                wids = cols[0].split(\",\")\n",
    "                if len(wids)>=150:\n",
    "                    wids = np.array(wids[:150]).astype('int64')     \n",
    "                else:\n",
    "                    wids = np.concatenate([wids, [vocab[\"<pad>\"]]*(150-len(wids))]).astype('int64')\n",
    "                label = np.array(label).astype('int64')\n",
    "                self.all_data.append((wids, label))\n",
    "\n",
    "        \n",
    "    def __getitem__(self, index):\n",
    "        data, label = self.all_data[index]\n",
    "        return data, label\n",
    "\n",
    "    def __len__(self):\n",
    "        return len(self.all_data)\n",
    "\n",
    "\n",
    "batch_size = 32\n",
    "train_dataset = RumorDataset(train_path)\n",
    "test_dataset = RumorDataset(test_path)\n",
    "\n",
    "train_loader = paddle.io.DataLoader(train_dataset, places=paddle.CPUPlace(), return_list=True,\n",
    "                                    shuffle=True, batch_size=batch_size, drop_last=True)\n",
    "test_loader = paddle.io.DataLoader(test_dataset, places=paddle.CPUPlace(), return_list=True,\n",
    "                                    shuffle=True, batch_size=batch_size, drop_last=True)\n",
    "\n",
    "\n",
    "\n",
    "\n",
    "#check\n",
    "\n",
    "print('=============train_dataset =============') \n",
    "for data, label in train_dataset:\n",
    "    print(data)\n",
    "    print(np.array(data).shape)\n",
    "    print(label)\n",
    "    break\n",
    "\n",
    "\n",
    "print('=============test_dataset =============') \n",
    "for data, label in test_dataset:\n",
    "    print(data)\n",
    "    print(np.array(data).shape)\n",
    "    print(label)\n",
    "    break\n",
    "\n",
    "\n"
   ]
  },
  {
   "cell_type": "markdown",
   "metadata": {},
   "source": [
    "# CNN"
   ]
  },
  {
   "cell_type": "code",
   "execution_count": 31,
   "metadata": {
    "execution": {
     "iopub.execute_input": "2023-01-31T03:48:43.456022Z",
     "iopub.status.busy": "2023-01-31T03:48:43.455280Z",
     "iopub.status.idle": "2023-01-31T03:48:43.463988Z",
     "shell.execute_reply": "2023-01-31T03:48:43.463363Z",
     "shell.execute_reply.started": "2023-01-31T03:48:43.455992Z"
    },
    "scrolled": true
   },
   "outputs": [],
   "source": [
    "#定义卷积网络\n",
    "class CNN(paddle.nn.Layer):\n",
    "    def __init__(self):\n",
    "        super(CNN,self).__init__()\n",
    "        self.dict_dim = vocab[\"<pad>\"]\n",
    "        self.emb_dim = 128\n",
    "        self.hid_dim = 128\n",
    "        self.fc_hid_dim = 96\n",
    "        self.class_dim = 2\n",
    "        self.channels = 1\n",
    "        self.win_size = [3, self.hid_dim]\n",
    "        self.batch_size = 32\n",
    "        self.seq_len = 150\n",
    "        self.embedding = Embedding(self.dict_dim + 1, self.emb_dim, sparse=False)\n",
    "        self.hidden1 = paddle.nn.Conv2D(in_channels=1,                        #通道数\n",
    "                                            out_channels=self.hid_dim,        #卷积核个数\n",
    "                                            kernel_size=self.win_size,        #卷积核大小\n",
    "                                            padding=[1, 1]\n",
    "                                            )                         \n",
    "        self.relu1 = paddle.nn.ReLU()\n",
    "        self.hidden3 = paddle.nn.MaxPool2D(kernel_size=2,         #池化核大小\n",
    "                                            stride=2)             #池化步长2\n",
    "        self.hidden4 = paddle.nn.Linear(128*75, 2)\n",
    "    #网络的前向计算过程\n",
    "    def forward(self,input):\n",
    "        \n",
    "        #print('输入维度：', input.shape)\n",
    "        x = self.embedding(input)\n",
    "        x = paddle.reshape(x, [32, 1, 150, 128])   \n",
    "        x = self.hidden1(x)\n",
    "        x = self.relu1(x)\n",
    "        #print('第一层卷积输出维度：', x.shape)\n",
    "        x = self.hidden3(x)\n",
    "        #print('池化后输出维度：', x.shape)\n",
    "        #在输入全连接层时，需将特征图拉平会自动将数据拉平.\n",
    "\n",
    "        x = paddle.reshape(x, shape=[self.batch_size, -1])\n",
    "        out = self.hidden4(x)\n",
    "        return out"
   ]
  },
  {
   "cell_type": "code",
   "execution_count": 32,
   "metadata": {
    "execution": {
     "iopub.execute_input": "2023-01-31T03:48:49.383607Z",
     "iopub.status.busy": "2023-01-31T03:48:49.383286Z",
     "iopub.status.idle": "2023-01-31T03:48:51.361832Z",
     "shell.execute_reply": "2023-01-31T03:48:51.361137Z",
     "shell.execute_reply.started": "2023-01-31T03:48:49.383581Z"
    },
    "scrolled": true
   },
   "outputs": [
    {
     "name": "stdout",
     "output_type": "stream",
     "text": [
      "epoch: 0, batch_id: 0, loss is: [0.69797945]\r\n",
      "epoch: 0, batch_id: 20, loss is: [0.5900941]\r\n",
      "epoch: 0, batch_id: 40, loss is: [0.33469692]\r\n",
      "epoch: 0, batch_id: 60, loss is: [0.32655874]\r\n",
      "epoch: 0, batch_id: 80, loss is: [0.35017884]\r\n",
      "epoch: 0, batch_id: 100, loss is: [0.35975087]\r\n",
      "epoch: 0, batch_id: 120, loss is: [0.36782765]\r\n",
      "epoch: 0, batch_id: 140, loss is: [0.50655353]\r\n",
      "epoch: 0, batch_id: 160, loss is: [0.33325815]\r\n",
      "epoch: 0, batch_id: 180, loss is: [0.202758]\r\n",
      "epoch: 0, batch_id: 200, loss is: [0.3368353]\r\n",
      "epoch: 0, batch_id: 220, loss is: [0.36696118]\r\n",
      "[validation] accuracy: 0.8799715638160706, loss: 0.30743974447250366\r\n",
      "epoch: 1, batch_id: 0, loss is: [0.16466707]\r\n",
      "epoch: 1, batch_id: 20, loss is: [0.07026613]\r\n",
      "epoch: 1, batch_id: 40, loss is: [0.07788553]\r\n",
      "epoch: 1, batch_id: 60, loss is: [0.21441215]\r\n",
      "epoch: 1, batch_id: 80, loss is: [0.23352784]\r\n",
      "epoch: 1, batch_id: 100, loss is: [0.09994909]\r\n",
      "epoch: 1, batch_id: 120, loss is: [0.05189623]\r\n",
      "epoch: 1, batch_id: 140, loss is: [0.20485087]\r\n",
      "epoch: 1, batch_id: 160, loss is: [0.1387445]\r\n",
      "epoch: 1, batch_id: 180, loss is: [0.06823738]\r\n",
      "epoch: 1, batch_id: 200, loss is: [0.05206332]\r\n",
      "epoch: 1, batch_id: 220, loss is: [0.10031489]\r\n",
      "[validation] accuracy: 0.8764204382896423, loss: 0.36895132064819336\r\n",
      "epoch: 2, batch_id: 0, loss is: [0.01365721]\r\n",
      "epoch: 2, batch_id: 20, loss is: [0.01689583]\r\n",
      "epoch: 2, batch_id: 40, loss is: [0.00680438]\r\n",
      "epoch: 2, batch_id: 60, loss is: [0.02404332]\r\n",
      "epoch: 2, batch_id: 80, loss is: [0.01184439]\r\n",
      "epoch: 2, batch_id: 100, loss is: [0.00729903]\r\n",
      "epoch: 2, batch_id: 120, loss is: [0.00867188]\r\n",
      "epoch: 2, batch_id: 140, loss is: [0.00689512]\r\n",
      "epoch: 2, batch_id: 160, loss is: [0.01044393]\r\n",
      "epoch: 2, batch_id: 180, loss is: [0.03918885]\r\n",
      "epoch: 2, batch_id: 200, loss is: [0.01726389]\r\n",
      "epoch: 2, batch_id: 220, loss is: [0.00695319]\r\n",
      "[validation] accuracy: 0.8778409361839294, loss: 0.5112160444259644\r\n"
     ]
    },
    {
     "data": {
      "image/png": "[encoded data removed]",
      "text/plain": [
       "<Figure size 640x480 with 1 Axes>"
      ]
     },
     "metadata": {},
     "output_type": "display_data"
    },
    {
     "data": {
      "image/png": "[encoded data removed]",
      "text/plain": [
       "<Figure size 640x480 with 1 Axes>"
      ]
     },
     "metadata": {},
     "output_type": "display_data"
    },
    {
     "name": "stdout",
     "output_type": "stream",
     "text": [
      "1.9665307998657227\r\n"
     ]
    }
   ],
   "source": [
    "def draw_process(title,color,iters,data,label):\n",
    "    plt.title(title, fontsize=24)\n",
    "    plt.xlabel(\"iter\", fontsize=20)\n",
    "    plt.ylabel(label, fontsize=20)\n",
    "    plt.plot(iters, data,color=color,label=label) \n",
    "    plt.legend()\n",
    "    plt.grid()\n",
    "    plt.show()\n",
    "\n",
    "def train(model):\n",
    "    model.train()\n",
    "    opt = paddle.optimizer.Adam(learning_rate=0.002, parameters=model.parameters())\n",
    "    steps = 0\n",
    "    \n",
    "    for epoch in range(3):\n",
    "        for batch_id, data in enumerate(train_loader):\n",
    "            steps += 1\n",
    "            sent = data[0]\n",
    "            label = data[1]\n",
    "            logits = model(sent)\n",
    "            loss = paddle.nn.functional.cross_entropy(logits, label)\n",
    "            acc = paddle.metric.accuracy(logits, label)\n",
    "            if batch_id % 20 == 0:\n",
    "                Iters.append(steps)\n",
    "                total_loss.append(loss.numpy()[0])\n",
    "                total_acc.append(acc.numpy()[0])\n",
    "                print(\"epoch: {}, batch_id: {}, loss is: {}\".format(epoch, batch_id, loss.numpy()))\n",
    "            \n",
    "            loss.backward()\n",
    "            opt.step()\n",
    "            opt.clear_grad()\n",
    "\n",
    "        # evaluate model after one epoch\n",
    "        model.eval()\n",
    "        accuracies = []\n",
    "        losses = []\n",
    "        for batch_id, data in enumerate(test_loader):\n",
    "            sent = data[0]\n",
    "            label = data[1]\n",
    "            logits = model(sent)\n",
    "            loss = paddle.nn.functional.cross_entropy(logits, label)\n",
    "            acc = paddle.metric.accuracy(logits, label)\n",
    "            accuracies.append(acc.numpy())\n",
    "            losses.append(loss.numpy())\n",
    "        \n",
    "        avg_acc, avg_loss = np.mean(accuracies), np.mean(losses)\n",
    "        print(\"[validation] accuracy: {}, loss: {}\".format(avg_acc, avg_loss))\n",
    "        model.train()\n",
    "\n",
    "    paddle.save(model.state_dict(),\"model_final.pdparams\")\n",
    "    draw_process(\"trainning loss\",\"red\",Iters,total_loss,\"trainning loss\")\n",
    "    draw_process(\"trainning acc\",\"green\",Iters,total_acc,\"trainning acc\")\n",
    "\n",
    "Iters, total_loss, total_acc = [], [], []        \n",
    "import time\n",
    "a = time.time()\n",
    "model = CNN()\n",
    "train(model)\n",
    "b=time.time()\n",
    "print(b-a)"
   ]
  },
  {
   "cell_type": "code",
   "execution_count": 33,
   "metadata": {
    "execution": {
     "iopub.execute_input": "2023-01-31T03:50:49.790460Z",
     "iopub.status.busy": "2023-01-31T03:50:49.789375Z",
     "iopub.status.idle": "2023-01-31T03:50:49.794681Z",
     "shell.execute_reply": "2023-01-31T03:50:49.794054Z",
     "shell.execute_reply.started": "2023-01-31T03:50:49.790418Z"
    },
    "scrolled": true
   },
   "outputs": [],
   "source": [
    "f1 = open(\"acc.txt\",\"w\")\n",
    "for line in total_acc:\n",
    "    f1.write(str(line)+\"\\n\")\n",
    "f1.close()"
   ]
  },
  {
   "cell_type": "code",
   "execution_count": 34,
   "metadata": {
    "execution": {
     "iopub.execute_input": "2023-01-31T03:50:52.373587Z",
     "iopub.status.busy": "2023-01-31T03:50:52.372850Z",
     "iopub.status.idle": "2023-01-31T03:50:52.478282Z",
     "shell.execute_reply": "2023-01-31T03:50:52.477595Z",
     "shell.execute_reply.started": "2023-01-31T03:50:52.373557Z"
    },
    "scrolled": true
   },
   "outputs": [
    {
     "name": "stdout",
     "output_type": "stream",
     "text": [
      "[validation] accuracy: 0.8799715638160706, loss: 0.501915454864502\r\n"
     ]
    }
   ],
   "source": [
    "'''\n",
    "模型评估\n",
    "'''\n",
    "model_state_dict = paddle.load('model_final.pdparams')\n",
    "model = CNN()\n",
    "model.set_state_dict(model_state_dict) \n",
    "model.eval()\n",
    "accuracies = []\n",
    "losses = []\n",
    "\n",
    "for batch_id, data in enumerate(test_loader):\n",
    "    \n",
    "    sent = data[0]\n",
    "    label = data[1]\n",
    "\n",
    "    logits = model(sent)\n",
    "    loss = paddle.nn.functional.cross_entropy(logits, label)\n",
    "    acc = paddle.metric.accuracy(logits, label)\n",
    "    \n",
    "    accuracies.append(acc.numpy())\n",
    "    losses.append(loss.numpy())\n",
    "\n",
    "avg_acc, avg_loss = np.mean(accuracies), np.mean(losses)\n",
    "print(\"[validation] accuracy: {}, loss: {}\".format(avg_acc, avg_loss))"
   ]
  },
  {
   "cell_type": "code",
   "execution_count": 35,
   "metadata": {
    "execution": {
     "iopub.execute_input": "2023-01-31T03:50:56.090624Z",
     "iopub.status.busy": "2023-01-31T03:50:56.089982Z",
     "iopub.status.idle": "2023-01-31T03:51:00.915175Z",
     "shell.execute_reply": "2023-01-31T03:51:00.914415Z",
     "shell.execute_reply.started": "2023-01-31T03:50:56.090593Z"
    },
    "scrolled": true
   },
   "outputs": [
    {
     "name": "stderr",
     "output_type": "stream",
     "text": [
      "/opt/conda/envs/python35-paddle120-env/lib/python3.7/site-packages/numpy/core/_asarray.py:102: VisibleDeprecationWarning: Creating an ndarray from nested sequences exceeding the maximum number of dimensions of 32 is deprecated. If you mean to do this, you must specify 'dtype=object' when creating the ndarray.\r\n",
      "  return array(a, dtype, copy=False, order=order)\r\n"
     ]
    },
    {
     "data": {
      "text/plain": [
       "array([[469, 106],\n",
       "       [ 63, 770]])"
      ]
     },
     "execution_count": 35,
     "metadata": {},
     "output_type": "execute_result"
    }
   ],
   "source": [
    "label_map = {0:\"谣言\", 1:\"不是谣言\"}\n",
    "import numpy as np\n",
    "from sklearn.metrics import confusion_matrix\n",
    "model_state_dict = paddle.load('model_final.pdparams')\n",
    "model = CNN()\n",
    "model.set_state_dict(model_state_dict) \n",
    "model.eval()\n",
    "predictions = []\n",
    "r = []\n",
    "for batch_id, data in enumerate(test_loader):\n",
    "    \n",
    "    sent = data[0]\n",
    "    gt_labels = data[1].numpy()\n",
    "    for i in gt_labels:\n",
    "        r.append(i)\n",
    "    results = model(sent)\n",
    "    for probs in results:\n",
    "        # 映射分类label\n",
    "        idx = np.argmax(probs)\n",
    "        #print(idx)\n",
    "        #r.append(gt_labels[batch_id][probs])\n",
    "        labels = label_map[idx]\n",
    "        predictions.append(idx)\n",
    "    \n",
    "    #for i,pre in enumerate(predictions):\n",
    "        #print('数据: {} \\n\\n预测: {} \\n原始标签：{}'.format(ids_to_str(sent[0]).replace(\" \", \"\").replace(\"<pad>\",\"\"), pre, label_map[gt_labels[0][0]]))\n",
    "        #break\n",
    "    #break\n",
    "#print(r)\n",
    "#print(predictions)\n",
    "confusion_matrix(r, predictions)"
   ]
  },
  {
   "cell_type": "code",
   "execution_count": 36,
   "metadata": {
    "execution": {
     "iopub.execute_input": "2023-01-31T03:51:05.633940Z",
     "iopub.status.busy": "2023-01-31T03:51:05.633372Z",
     "iopub.status.idle": "2023-01-31T03:51:05.645368Z",
     "shell.execute_reply": "2023-01-31T03:51:05.644740Z",
     "shell.execute_reply.started": "2023-01-31T03:51:05.633913Z"
    },
    "scrolled": true
   },
   "outputs": [
    {
     "name": "stdout",
     "output_type": "stream",
     "text": [
      "              precision    recall  f1-score   support\r\n",
      "\r\n",
      "           0     0.8816    0.8157    0.8473       575\r\n",
      "           1     0.8790    0.9244    0.9011       833\r\n",
      "\r\n",
      "    accuracy                         0.8800      1408\r\n",
      "   macro avg     0.8803    0.8700    0.8742      1408\r\n",
      "weighted avg     0.8801    0.8800    0.8792      1408\r\n",
      "\r\n"
     ]
    }
   ],
   "source": [
    "from sklearn.metrics import classification_report\n",
    "target_names = [\"0\",\"1\"]\n",
    "CR=classification_report(r, predictions, target_names=target_names,digits=4)\n",
    "print(CR)"
   ]
  },
  {
   "cell_type": "markdown",
   "metadata": {},
   "source": [
    "# LSTM"
   ]
  },
  {
   "cell_type": "code",
   "execution_count": 67,
   "metadata": {
    "execution": {
     "iopub.execute_input": "2023-01-31T03:58:03.291533Z",
     "iopub.status.busy": "2023-01-31T03:58:03.290734Z",
     "iopub.status.idle": "2023-01-31T03:58:03.310389Z",
     "shell.execute_reply": "2023-01-31T03:58:03.309779Z",
     "shell.execute_reply.started": "2023-01-31T03:58:03.291504Z"
    },
    "scrolled": true
   },
   "outputs": [
    {
     "name": "stdout",
     "output_type": "stream",
     "text": [
      "-----------------------------------------------------------------------------------------------------\r\n",
      " Layer (type)       Input Shape                       Output Shape                      Param #    \r\n",
      "=====================================================================================================\r\n",
      " Embedding-37       [[32, 150]]                      [32, 150, 128]                    1,020,800   \r\n",
      "   Linear-63      [[32, 150, 128]]                   [32, 150, 128]                     16,512     \r\n",
      "    LSTM-27       [[32, 150, 128]]   [[32, 150, 128], [[1, 32, 128], [1, 32, 128]]]     132,096    \r\n",
      "   Linear-64       [[32, 19200]]                        [32, 2]                         38,402     \r\n",
      "=====================================================================================================\r\n",
      "Total params: 1,207,810\r\n",
      "Trainable params: 1,207,810\r\n",
      "Non-trainable params: 0\r\n",
      "-----------------------------------------------------------------------------------------------------\r\n",
      "Input size (MB): 0.02\r\n",
      "Forward/backward pass size (MB): 142.06\r\n",
      "Params size (MB): 4.61\r\n",
      "Estimated Total Size (MB): 146.69\r\n",
      "-----------------------------------------------------------------------------------------------------\r\n",
      "\r\n"
     ]
    },
    {
     "name": "stderr",
     "output_type": "stream",
     "text": [
      "/opt/conda/envs/python35-paddle120-env/lib/python3.7/site-packages/numpy/core/fromnumeric.py:87: VisibleDeprecationWarning: Creating an ndarray from ragged nested sequences (which is a list-or-tuple of lists-or-tuples-or ndarrays with different lengths or shapes) is deprecated. If you meant to do this, you must specify 'dtype=object' when creating the ndarray.\r\n",
      "  return ufunc.reduce(obj, axis, dtype, out, **passkwargs)\r\n"
     ]
    },
    {
     "data": {
      "text/plain": [
       "{'total_params': 1207810, 'trainable_params': 1207810}"
      ]
     },
     "execution_count": 67,
     "metadata": {},
     "output_type": "execute_result"
    }
   ],
   "source": [
    "import paddle\n",
    "from paddle.nn import Conv2D, Linear, Embedding\n",
    "from paddle import to_tensor\n",
    "import paddle.nn.functional as F\n",
    "\n",
    "class RNN(paddle.nn.Layer):\n",
    "    def __init__(self):\n",
    "        super(RNN, self).__init__()\n",
    "        self.dict_dim = vocab[\"<pad>\"]\n",
    "        self.emb_dim = 128\n",
    "        self.hid_dim = 128\n",
    "        self.class_dim = 2\n",
    "        self.embedding = Embedding(\n",
    "            self.dict_dim + 1, self.emb_dim,\n",
    "            sparse=False)\n",
    "        self._fc1 = Linear(self.emb_dim, self.hid_dim)\n",
    "        self.lstm = paddle.nn.LSTM(self.hid_dim, self.hid_dim)\n",
    "        self.fc2 = Linear(19200, self.class_dim)\n",
    "\n",
    "    def forward(self, inputs):\n",
    "        # [32, 150]\n",
    "        emb = self.embedding(inputs)\n",
    "        # [32, 150, 128]\n",
    "        fc_1 = self._fc1(emb)\n",
    "        # [32, 150, 128]\n",
    "        x = self.lstm(fc_1)\n",
    "        x = paddle.reshape(x[0], [0, -1])\n",
    "        x = self.fc2(x)\n",
    "        x = paddle.nn.functional.softmax(x)\n",
    "        return x\n",
    "\n",
    "rnn = RNN()\n",
    "paddle.summary(rnn,(32,150),\"int64\")"
   ]
  },
  {
   "cell_type": "code",
   "execution_count": 68,
   "metadata": {
    "execution": {
     "iopub.execute_input": "2023-01-31T03:58:06.437250Z",
     "iopub.status.busy": "2023-01-31T03:58:06.436931Z",
     "iopub.status.idle": "2023-01-31T03:58:12.892056Z",
     "shell.execute_reply": "2023-01-31T03:58:12.891345Z",
     "shell.execute_reply.started": "2023-01-31T03:58:06.437227Z"
    },
    "scrolled": true
   },
   "outputs": [
    {
     "name": "stderr",
     "output_type": "stream",
     "text": [
      "/opt/conda/envs/python35-paddle120-env/lib/python3.7/site-packages/paddle/fluid/dataloader/dataloader_iter.py:89: DeprecationWarning: `np.bool` is a deprecated alias for the builtin `bool`. To silence this warning, use `bool` by itself. Doing this will not modify any behavior and is safe. If you specifically wanted the numpy scalar type, use `np.bool_` here.\r\n",
      "Deprecated in NumPy 1.20; for more details and guidance: https://numpy.org/devdocs/release/1.20.0-notes.html#deprecations\r\n",
      "  if isinstance(slot[0], (np.ndarray, np.bool, numbers.Number)):\r\n"
     ]
    },
    {
     "name": "stdout",
     "output_type": "stream",
     "text": [
      "epoch: 0, batch_id: 0, loss is: [0.70328534]\r\n",
      "epoch: 0, batch_id: 20, loss is: [0.40038016]\r\n",
      "epoch: 0, batch_id: 40, loss is: [0.48345187]\r\n",
      "epoch: 0, batch_id: 60, loss is: [0.41559714]\r\n",
      "epoch: 0, batch_id: 80, loss is: [0.5573466]\r\n",
      "epoch: 0, batch_id: 100, loss is: [0.4286052]\r\n",
      "epoch: 0, batch_id: 120, loss is: [0.36213684]\r\n",
      "epoch: 0, batch_id: 140, loss is: [0.56186175]\r\n",
      "epoch: 0, batch_id: 160, loss is: [0.48349482]\r\n",
      "epoch: 0, batch_id: 180, loss is: [0.6099056]\r\n",
      "epoch: 0, batch_id: 200, loss is: [0.6580399]\r\n",
      "epoch: 0, batch_id: 220, loss is: [0.4804195]\r\n",
      "[validation] accuracy: 0.8366477489471436, loss: 0.4677758514881134\r\n",
      "epoch: 1, batch_id: 0, loss is: [0.4757934]\r\n",
      "epoch: 1, batch_id: 20, loss is: [0.4495434]\r\n",
      "epoch: 1, batch_id: 40, loss is: [0.46901488]\r\n",
      "epoch: 1, batch_id: 60, loss is: [0.49496388]\r\n",
      "epoch: 1, batch_id: 80, loss is: [0.46749532]\r\n",
      "epoch: 1, batch_id: 100, loss is: [0.49501973]\r\n",
      "epoch: 1, batch_id: 120, loss is: [0.41688016]\r\n",
      "epoch: 1, batch_id: 140, loss is: [0.45571694]\r\n",
      "epoch: 1, batch_id: 160, loss is: [0.46816605]\r\n",
      "epoch: 1, batch_id: 180, loss is: [0.42147157]\r\n",
      "epoch: 1, batch_id: 200, loss is: [0.506792]\r\n",
      "epoch: 1, batch_id: 220, loss is: [0.48264736]\r\n",
      "[validation] accuracy: 0.8352272510528564, loss: 0.47202855348587036\r\n",
      "epoch: 2, batch_id: 0, loss is: [0.43725824]\r\n",
      "epoch: 2, batch_id: 20, loss is: [0.39592004]\r\n",
      "epoch: 2, batch_id: 40, loss is: [0.4069779]\r\n",
      "epoch: 2, batch_id: 60, loss is: [0.42950642]\r\n",
      "epoch: 2, batch_id: 80, loss is: [0.4622116]\r\n",
      "epoch: 2, batch_id: 100, loss is: [0.49464124]\r\n",
      "epoch: 2, batch_id: 120, loss is: [0.40825295]\r\n",
      "epoch: 2, batch_id: 140, loss is: [0.51347494]\r\n",
      "epoch: 2, batch_id: 160, loss is: [0.44057676]\r\n",
      "epoch: 2, batch_id: 180, loss is: [0.42567945]\r\n",
      "epoch: 2, batch_id: 200, loss is: [0.4673672]\r\n",
      "epoch: 2, batch_id: 220, loss is: [0.5071348]\r\n",
      "[validation] accuracy: 0.8515625, loss: 0.460172176361084\r\n"
     ]
    },
    {
     "data": {
      "image/png": "[encoded data removed]",
      "text/plain": [
       "<Figure size 640x480 with 1 Axes>"
      ]
     },
     "metadata": {},
     "output_type": "display_data"
    },
    {
     "data": {
      "image/png": "[encoded data removed]",
      "text/plain": [
       "<Figure size 640x480 with 1 Axes>"
      ]
     },
     "metadata": {},
     "output_type": "display_data"
    },
    {
     "name": "stdout",
     "output_type": "stream",
     "text": [
      "6.444181442260742\r\n"
     ]
    }
   ],
   "source": [
    "def train(model):\n",
    "    model.train()\n",
    "    opt = paddle.optimizer.Adam(learning_rate=0.002, parameters=model.parameters())\n",
    "    \n",
    "    steps = 0\n",
    "    \n",
    "    \n",
    "    for epoch in range(3):\n",
    "        for batch_id, data in enumerate(train_loader):\n",
    "            steps += 1\n",
    "            sent = data[0]\n",
    "            label = data[1]\n",
    "            \n",
    "            logits = model(sent)\n",
    "            loss = paddle.nn.functional.cross_entropy(logits, label)\n",
    "            acc = paddle.metric.accuracy(logits, label)\n",
    "\n",
    "            if batch_id % 20 == 0:\n",
    "                Iters.append(steps)\n",
    "                total_loss.append(loss.numpy()[0])\n",
    "                total_acc.append(acc.numpy()[0])\n",
    "\n",
    "                print(\"epoch: {}, batch_id: {}, loss is: {}\".format(epoch, batch_id, loss.numpy()))\n",
    "            \n",
    "            loss.backward()\n",
    "            opt.step()\n",
    "            opt.clear_grad()\n",
    "\n",
    "        # evaluate model after one epoch\n",
    "        model.eval()\n",
    "        accuracies = []\n",
    "        losses = []\n",
    "        \n",
    "        for batch_id, data in enumerate(test_loader):\n",
    "            \n",
    "            sent = data[0]\n",
    "            label = data[1]\n",
    "\n",
    "            logits = model(sent)\n",
    "            loss = paddle.nn.functional.cross_entropy(logits, label)\n",
    "            acc = paddle.metric.accuracy(logits, label)\n",
    "            \n",
    "            accuracies.append(acc.numpy())\n",
    "            losses.append(loss.numpy())\n",
    "        \n",
    "        avg_acc, avg_loss = np.mean(accuracies), np.mean(losses)\n",
    "\n",
    "        print(\"[validation] accuracy: {}, loss: {}\".format(avg_acc, avg_loss))\n",
    "        \n",
    "        model.train()\n",
    "\n",
    "    paddle.save(model.state_dict(),\"lstm_model_final.pdparams\")\n",
    "    \n",
    "    draw_process(\"trainning loss\",\"red\",Iters,total_loss,\"trainning loss\")\n",
    "    draw_process(\"trainning acc\",\"green\",Iters,total_acc,\"trainning acc\")\n",
    "        \n",
    "Iters, total_loss, total_acc = [], [], []        \n",
    "import time\n",
    "start_time=time.time()\n",
    "model = RNN()\n",
    "train(model)\n",
    "end_time=time.time()\n",
    "running_time=end_time-start_time\n",
    "print(running_time)"
   ]
  },
  {
   "cell_type": "code",
   "execution_count": 69,
   "metadata": {
    "execution": {
     "iopub.execute_input": "2023-01-31T03:58:23.423777Z",
     "iopub.status.busy": "2023-01-31T03:58:23.423013Z",
     "iopub.status.idle": "2023-01-31T03:58:23.427445Z",
     "shell.execute_reply": "2023-01-31T03:58:23.426805Z",
     "shell.execute_reply.started": "2023-01-31T03:58:23.423747Z"
    },
    "scrolled": true
   },
   "outputs": [],
   "source": [
    "f1 = open(\"loss.txt\",\"w\")\n",
    "for line in total_loss:\n",
    "    f1.write(str(line)+\"\\n\")\n",
    "f1.close()"
   ]
  },
  {
   "cell_type": "code",
   "execution_count": 70,
   "metadata": {
    "execution": {
     "iopub.execute_input": "2023-01-31T03:58:25.581163Z",
     "iopub.status.busy": "2023-01-31T03:58:25.580353Z",
     "iopub.status.idle": "2023-01-31T03:58:30.539430Z",
     "shell.execute_reply": "2023-01-31T03:58:30.538697Z",
     "shell.execute_reply.started": "2023-01-31T03:58:25.581133Z"
    },
    "scrolled": true
   },
   "outputs": [
    {
     "name": "stderr",
     "output_type": "stream",
     "text": [
      "/opt/conda/envs/python35-paddle120-env/lib/python3.7/site-packages/numpy/core/_asarray.py:102: VisibleDeprecationWarning: Creating an ndarray from nested sequences exceeding the maximum number of dimensions of 32 is deprecated. If you mean to do this, you must specify 'dtype=object' when creating the ndarray.\r\n",
      "  return array(a, dtype, copy=False, order=order)\r\n"
     ]
    },
    {
     "name": "stdout",
     "output_type": "stream",
     "text": [
      "              precision    recall  f1-score   support\r\n",
      "\r\n",
      "           0     0.8619    0.7599    0.8077       583\r\n",
      "           1     0.8434    0.9139    0.8773       825\r\n",
      "\r\n",
      "    accuracy                         0.8501      1408\r\n",
      "   macro avg     0.8526    0.8369    0.8425      1408\r\n",
      "weighted avg     0.8510    0.8501    0.8484      1408\r\n",
      "\r\n"
     ]
    }
   ],
   "source": [
    "import numpy as np\n",
    "from sklearn.metrics import confusion_matrix\n",
    "model_state_dict = paddle.load('lstm_model_final.pdparams')\n",
    "model = RNN()\n",
    "model.set_state_dict(model_state_dict) \n",
    "model.eval()\n",
    "predictions = []\n",
    "r = []\n",
    "for batch_id, data in enumerate(test_loader):\n",
    "    \n",
    "    sent = data[0]\n",
    "    gt_labels = data[1].numpy()\n",
    "    for i in gt_labels:\n",
    "        r.append(i)\n",
    "    results = model(sent)\n",
    "    for probs in results:\n",
    "        # 映射分类label\n",
    "        idx = np.argmax(probs)\n",
    "        predictions.append(idx)\n",
    "    \n",
    "confusion_matrix(r, predictions)\n",
    "from sklearn.metrics import classification_report\n",
    "target_names = [\"0\",\"1\"]\n",
    "CR=classification_report(r, predictions, target_names=target_names,digits=4)\n",
    "print(CR)"
   ]
  },
  {
   "cell_type": "markdown",
   "metadata": {},
   "source": [
    "# Transform"
   ]
  },
  {
   "cell_type": "code",
   "execution_count": 71,
   "metadata": {
    "execution": {
     "iopub.execute_input": "2023-01-31T03:58:41.567573Z",
     "iopub.status.busy": "2023-01-31T03:58:41.566956Z",
     "iopub.status.idle": "2023-01-31T03:58:41.642400Z",
     "shell.execute_reply": "2023-01-31T03:58:41.641742Z",
     "shell.execute_reply.started": "2023-01-31T03:58:41.567544Z"
    },
    "scrolled": true
   },
   "outputs": [
    {
     "name": "stdout",
     "output_type": "stream",
     "text": [
      "2.0.2\r\n"
     ]
    }
   ],
   "source": [
    "import paddle as pd\n",
    "import paddle.nn as nn\n",
    "import numpy as np\n",
    "import matplotlib.pyplot as plt\n",
    "from paddlenlp.transformers import BertForSequenceClassification, BertTokenizer\n",
    "from sklearn.model_selection import train_test_split\n",
    "print(pd.__version__)"
   ]
  },
  {
   "cell_type": "code",
   "execution_count": 72,
   "metadata": {
    "execution": {
     "iopub.execute_input": "2023-01-31T03:58:43.970539Z",
     "iopub.status.busy": "2023-01-31T03:58:43.970010Z",
     "iopub.status.idle": "2023-01-31T03:58:43.980886Z",
     "shell.execute_reply": "2023-01-31T03:58:43.980266Z",
     "shell.execute_reply.started": "2023-01-31T03:58:43.970511Z"
    },
    "scrolled": true
   },
   "outputs": [],
   "source": [
    "class MultiHeadSelfAttention(nn.Layer):\n",
    "    def __init__(self, embed_dim, num_heads=8):\n",
    "        super(MultiHeadSelfAttention, self).__init__()\n",
    "        self.embed_dim = embed_dim\n",
    "        self.num_heads = num_heads\n",
    "        if embed_dim % num_heads != 0:\n",
    "            raise ValueError(\n",
    "                f\"embedding dimension = {embed_dim} should be divisible by number of heads = {num_heads}\"\n",
    "            )\n",
    "        self.projection_dim = embed_dim // num_heads\n",
    "        self.query_dense = nn.Linear(embed_dim, embed_dim)\n",
    "        self.key_dense = nn.Linear(embed_dim, embed_dim)\n",
    "        self.value_dense = nn.Linear(embed_dim, embed_dim)\n",
    "        self.combine_heads = nn.Linear(embed_dim, embed_dim)\n",
    "\n",
    "    def attention(self, query, key, value):\n",
    "        score = pd.matmul(query, key, transpose_y=True)\n",
    "        dim_key = pd.cast(pd.shape(key)[-1], 'float32')\n",
    "        scaled_score = score / pd.sqrt(dim_key)\n",
    "        weights = nn.functional.softmax(scaled_score, axis=-1)\n",
    "        output = pd.matmul(weights, value)\n",
    "        return output, weights\n",
    "\n",
    "    def separate_heads(self, x, batch_size):\n",
    "        x = pd.reshape(x, (batch_size, -1, self.num_heads, self.projection_dim))\n",
    "        return pd.transpose(x, perm=[0, 2, 1, 3])\n",
    "\n",
    "    def forward(self, inputs):\n",
    "        # x.shape = [batch_size, seq_len, embedding_dim]\n",
    "        batch_size = pd.shape(inputs)[0]\n",
    "        query = self.query_dense(inputs)  # (batch_size, seq_len, embed_dim)\n",
    "        key = self.key_dense(inputs)  # (batch_size, seq_len, embed_dim)\n",
    "        value = self.value_dense(inputs)  # (batch_size, seq_len, embed_dim)\n",
    "        query = self.separate_heads(\n",
    "            query, batch_size\n",
    "        )  # (batch_size, num_heads, seq_len, projection_dim)\n",
    "        key = self.separate_heads(\n",
    "            key, batch_size\n",
    "        )  # (batch_size, num_heads, seq_len, projection_dim)\n",
    "        value = self.separate_heads(\n",
    "            value, batch_size\n",
    "        )  # (batch_size, num_heads, seq_len, projection_dim)\n",
    "        attention, weights = self.attention(query, key, value)\n",
    "        attention = pd.transpose(\n",
    "            attention, perm=[0, 2, 1, 3]\n",
    "        )  # (batch_size, seq_len, num_heads, projection_dim)\n",
    "        concat_attention = pd.reshape(\n",
    "            attention, (batch_size, -1, self.embed_dim)\n",
    "        )  # (batch_size, seq_len, embed_dim)\n",
    "        output = self.combine_heads(\n",
    "            concat_attention\n",
    "        )  # (batch_size, seq_len, embed_dim)\n",
    "        return output"
   ]
  },
  {
   "cell_type": "code",
   "execution_count": 73,
   "metadata": {
    "execution": {
     "iopub.execute_input": "2023-01-31T03:58:48.945423Z",
     "iopub.status.busy": "2023-01-31T03:58:48.944665Z",
     "iopub.status.idle": "2023-01-31T03:58:48.949979Z",
     "shell.execute_reply": "2023-01-31T03:58:48.949347Z",
     "shell.execute_reply.started": "2023-01-31T03:58:48.945396Z"
    },
    "scrolled": true
   },
   "outputs": [],
   "source": [
    "class PointWiseFeedForwardNetwork(nn.Layer):\n",
    "    def __init__(self, embed_dim, feed_dim):\n",
    "        super(PointWiseFeedForwardNetwork, self).__init__()\n",
    "        self.linear1 = pd.fluid.dygraph.Linear(embed_dim, feed_dim, act='relu')\n",
    "        self.linear2 = nn.Linear(feed_dim, embed_dim)\n",
    "\n",
    "    def forward(self, x):\n",
    "        out = self.linear1(x)\n",
    "        out = self.linear2(out)\n",
    "        return out"
   ]
  },
  {
   "cell_type": "code",
   "execution_count": 74,
   "metadata": {
    "execution": {
     "iopub.execute_input": "2023-01-31T03:58:51.647191Z",
     "iopub.status.busy": "2023-01-31T03:58:51.646437Z",
     "iopub.status.idle": "2023-01-31T03:58:51.652177Z",
     "shell.execute_reply": "2023-01-31T03:58:51.651531Z",
     "shell.execute_reply.started": "2023-01-31T03:58:51.647160Z"
    },
    "scrolled": true
   },
   "outputs": [],
   "source": [
    "class TokenAndPositionEmbedding(nn.Layer):\n",
    "    def __init__(self, maxlen, vocab_size, embed_dim):\n",
    "        super(TokenAndPositionEmbedding, self).__init__()\n",
    "        self.token_emb = nn.Embedding(vocab_size, embed_dim)\n",
    "        self.pos_emb = nn.Embedding(maxlen, embed_dim)\n",
    "\n",
    "    def forward(self, x):\n",
    "        maxlen = pd.shape(x)[-1]\n",
    "        positions = pd.arange(start=0, end=maxlen, step=1, dtype='int64')\n",
    "        positions = self.pos_emb(positions)\n",
    "        x = self.token_emb(x)\n",
    "        return x + positions"
   ]
  },
  {
   "cell_type": "code",
   "execution_count": 75,
   "metadata": {
    "execution": {
     "iopub.execute_input": "2023-01-31T03:58:57.531443Z",
     "iopub.status.busy": "2023-01-31T03:58:57.530668Z",
     "iopub.status.idle": "2023-01-31T03:58:57.537384Z",
     "shell.execute_reply": "2023-01-31T03:58:57.536718Z",
     "shell.execute_reply.started": "2023-01-31T03:58:57.531404Z"
    },
    "scrolled": true
   },
   "outputs": [],
   "source": [
    "class TransformerBlock(nn.Layer):\n",
    "    def __init__(self, embed_dim, num_heads, feed_dim, rate=0.1):\n",
    "        super(TransformerBlock, self).__init__()\n",
    "        self.att = MultiHeadSelfAttention(embed_dim, num_heads)\n",
    "        self.ffn = PointWiseFeedForwardNetwork(embed_dim, feed_dim)\n",
    "        self.layernorm1 = nn.LayerNorm(embed_dim, epsilon=1e-6)\n",
    "        self.layernorm2 = nn.LayerNorm(embed_dim, epsilon=1e-6)\n",
    "        self.dropout1 = nn.Dropout(rate)\n",
    "        self.dropout2 = nn.Dropout(rate)\n",
    "\n",
    "    def forward(self, inputs):\n",
    "        attn_output = self.att(inputs)\n",
    "        attn_output = self.dropout1(attn_output)\n",
    "        out1 = self.layernorm1(inputs + attn_output)\n",
    "        ffn_output = self.ffn(out1)\n",
    "        ffn_output = self.dropout2(ffn_output)\n",
    "        return self.layernorm2(out1 + ffn_output)"
   ]
  },
  {
   "cell_type": "code",
   "execution_count": 76,
   "metadata": {
    "execution": {
     "iopub.execute_input": "2023-01-31T03:59:06.450051Z",
     "iopub.status.busy": "2023-01-31T03:59:06.449430Z",
     "iopub.status.idle": "2023-01-31T03:59:06.456160Z",
     "shell.execute_reply": "2023-01-31T03:59:06.455539Z",
     "shell.execute_reply.started": "2023-01-31T03:59:06.450020Z"
    },
    "scrolled": true
   },
   "outputs": [],
   "source": [
    "class MyNet(nn.Layer):\n",
    "    def __init__(self):\n",
    "        super(MyNet, self).__init__()\n",
    "        self.emb = TokenAndPositionEmbedding(maxlen, vocab_size, embed_dim)\n",
    "        self.trs = TransformerBlock(embed_dim, num_heads, feed_dim)\n",
    "        self.drop1 = nn.Dropout(0.1)\n",
    "        self.relu = pd.fluid.dygraph.Linear(feed_dim, 20, act='relu')\n",
    "        self.drop2 = nn.Dropout(0.1)\n",
    "        self.soft = pd.fluid.dygraph.Linear(20, 2, act='softmax')\n",
    "\n",
    "    def forward(self, x):\n",
    "        x = self.emb(x)\n",
    "        x = self.trs(x)\n",
    "        x = pd.mean(x, axis=1)\n",
    "        x = self.drop1(x)\n",
    "        x = self.relu(x)\n",
    "        x = self.drop2(x)\n",
    "        x = self.soft(x)\n",
    "        return x"
   ]
  },
  {
   "cell_type": "code",
   "execution_count": 77,
   "metadata": {
    "execution": {
     "iopub.execute_input": "2023-01-31T03:59:19.506530Z",
     "iopub.status.busy": "2023-01-31T03:59:19.505697Z",
     "iopub.status.idle": "2023-01-31T03:59:19.510472Z",
     "shell.execute_reply": "2023-01-31T03:59:19.509876Z",
     "shell.execute_reply.started": "2023-01-31T03:59:19.506499Z"
    },
    "scrolled": true
   },
   "outputs": [],
   "source": [
    "#参数设置\n",
    "vocab_size = len(vocab)  \n",
    "maxlen = 200  \n",
    "seq_len = 200\n",
    "batch_size = 32\n",
    "epochs = 3\n",
    "pad_id = vocab['<pad>']\n",
    "embed_dim = 128  # Embedding size for each token\n",
    "num_heads = 2  # Number of attention heads\n",
    "feed_dim = 128  # Hidden layer size in feed forward network inside transformer\n",
    "\n",
    "classes = ['0', '1']"
   ]
  },
  {
   "cell_type": "code",
   "execution_count": 78,
   "metadata": {
    "execution": {
     "iopub.execute_input": "2023-01-31T03:59:24.383042Z",
     "iopub.status.busy": "2023-01-31T03:59:24.382526Z",
     "iopub.status.idle": "2023-01-31T03:59:29.834742Z",
     "shell.execute_reply": "2023-01-31T03:59:29.834060Z",
     "shell.execute_reply.started": "2023-01-31T03:59:24.383014Z"
    },
    "scrolled": true,
    "tags": []
   },
   "outputs": [
    {
     "name": "stdout",
     "output_type": "stream",
     "text": [
      "epoch: 0, batch_id: 0, loss is: [0.6751928]\r\n",
      "epoch: 0, batch_id: 20, loss is: [0.6220515]\r\n",
      "epoch: 0, batch_id: 40, loss is: [0.48182532]\r\n",
      "epoch: 0, batch_id: 60, loss is: [0.45105875]\r\n",
      "epoch: 0, batch_id: 80, loss is: [0.4955758]\r\n",
      "epoch: 0, batch_id: 100, loss is: [0.47362345]\r\n",
      "epoch: 0, batch_id: 120, loss is: [0.4782331]\r\n",
      "epoch: 0, batch_id: 140, loss is: [0.549321]\r\n",
      "epoch: 0, batch_id: 160, loss is: [0.42609537]\r\n",
      "epoch: 0, batch_id: 180, loss is: [0.43985656]\r\n",
      "epoch: 0, batch_id: 200, loss is: [0.4522249]\r\n",
      "epoch: 0, batch_id: 220, loss is: [0.43461657]\r\n",
      "[validation] accuracy: 0.8430397510528564, loss: 0.46492984890937805\r\n",
      "epoch: 1, batch_id: 0, loss is: [0.44079497]\r\n",
      "epoch: 1, batch_id: 20, loss is: [0.5261711]\r\n",
      "epoch: 1, batch_id: 40, loss is: [0.3578046]\r\n",
      "epoch: 1, batch_id: 60, loss is: [0.44184595]\r\n",
      "epoch: 1, batch_id: 80, loss is: [0.4605108]\r\n",
      "epoch: 1, batch_id: 100, loss is: [0.4306888]\r\n",
      "epoch: 1, batch_id: 120, loss is: [0.4911983]\r\n",
      "epoch: 1, batch_id: 140, loss is: [0.45434576]\r\n",
      "epoch: 1, batch_id: 160, loss is: [0.49807265]\r\n",
      "epoch: 1, batch_id: 180, loss is: [0.429515]\r\n",
      "epoch: 1, batch_id: 200, loss is: [0.38839915]\r\n",
      "epoch: 1, batch_id: 220, loss is: [0.44661233]\r\n",
      "[validation] accuracy: 0.8416193127632141, loss: 0.46807432174682617\r\n",
      "epoch: 2, batch_id: 0, loss is: [0.40163043]\r\n",
      "epoch: 2, batch_id: 20, loss is: [0.4010573]\r\n",
      "epoch: 2, batch_id: 40, loss is: [0.4119092]\r\n",
      "epoch: 2, batch_id: 60, loss is: [0.41227084]\r\n",
      "epoch: 2, batch_id: 80, loss is: [0.4373448]\r\n",
      "epoch: 2, batch_id: 100, loss is: [0.384401]\r\n",
      "epoch: 2, batch_id: 120, loss is: [0.4490637]\r\n",
      "epoch: 2, batch_id: 140, loss is: [0.4382792]\r\n",
      "epoch: 2, batch_id: 160, loss is: [0.4085521]\r\n",
      "epoch: 2, batch_id: 180, loss is: [0.4832904]\r\n",
      "epoch: 2, batch_id: 200, loss is: [0.46402255]\r\n",
      "epoch: 2, batch_id: 220, loss is: [0.43962446]\r\n",
      "[validation] accuracy: 0.8352272510528564, loss: 0.4755129814147949\r\n"
     ]
    },
    {
     "data": {
      "image/png": "[encoded data removed]",
      "text/plain": [
       "<Figure size 640x480 with 1 Axes>"
      ]
     },
     "metadata": {},
     "output_type": "display_data"
    },
    {
     "data": {
      "image/png": "[encoded data removed]",
      "text/plain": [
       "<Figure size 640x480 with 1 Axes>"
      ]
     },
     "metadata": {},
     "output_type": "display_data"
    },
    {
     "name": "stdout",
     "output_type": "stream",
     "text": [
      "5.4384541511535645\r\n"
     ]
    }
   ],
   "source": [
    "def draw_process(title,color,iters,data,label):\n",
    "    plt.title(title, fontsize=24)\n",
    "    plt.xlabel(\"iter\", fontsize=20)\n",
    "    plt.ylabel(label, fontsize=20)\n",
    "    plt.plot(iters, data,color=color,label=label) \n",
    "    plt.legend()\n",
    "    plt.grid()\n",
    "    plt.show()\n",
    "\n",
    "def train(model):\n",
    "    model.train()\n",
    "    opt = pd.optimizer.Adam(learning_rate=0.002, parameters=model.parameters())\n",
    "    \n",
    "    steps = 0\n",
    "    \n",
    "    \n",
    "    for epoch in range(3):\n",
    "        for batch_id, data in enumerate(train_loader):\n",
    "            steps += 1\n",
    "            sent = data[0]\n",
    "            label = data[1]\n",
    "            \n",
    "            logits = model(sent)\n",
    "            loss = pd.nn.functional.cross_entropy(logits, label)\n",
    "            acc = pd.metric.accuracy(logits, label)\n",
    "\n",
    "            if batch_id % 20 == 0:\n",
    "                Iters.append(steps)\n",
    "                total_loss.append(loss.numpy()[0])\n",
    "                total_acc.append(acc.numpy()[0])\n",
    "\n",
    "                print(\"epoch: {}, batch_id: {}, loss is: {}\".format(epoch, batch_id, loss.numpy()))\n",
    "            \n",
    "            loss.backward()\n",
    "            opt.step()\n",
    "            opt.clear_grad()\n",
    "\n",
    "        # evaluate model after one epoch\n",
    "        model.eval()\n",
    "        accuracies = []\n",
    "        losses = []\n",
    "        \n",
    "        for batch_id, data in enumerate(test_loader):\n",
    "            \n",
    "            sent = data[0]\n",
    "            label = data[1]\n",
    "\n",
    "            logits = model(sent)\n",
    "            loss = pd.nn.functional.cross_entropy(logits, label)\n",
    "            acc = pd.metric.accuracy(logits, label)\n",
    "            \n",
    "            accuracies.append(acc.numpy())\n",
    "            losses.append(loss.numpy())\n",
    "        \n",
    "        avg_acc, avg_loss = np.mean(accuracies), np.mean(losses)\n",
    "\n",
    "        print(\"[validation] accuracy: {}, loss: {}\".format(avg_acc, avg_loss))\n",
    "        \n",
    "        model.train()\n",
    "\n",
    "    pd.save(model.state_dict(),\"trans_model_final.pdparams\")\n",
    "    \n",
    "    draw_process(\"trainning loss\",\"red\",Iters,total_loss,\"trainning loss\")\n",
    "    draw_process(\"trainning acc\",\"green\",Iters,total_acc,\"trainning acc\")\n",
    "\n",
    "import time\n",
    "a = time.time()\n",
    "Iters, total_loss, total_acc = [], [], []\n",
    "model = MyNet()\n",
    "train(model)\n",
    "b = time.time()\n",
    "print(b-a)"
   ]
  },
  {
   "cell_type": "code",
   "execution_count": 79,
   "metadata": {
    "execution": {
     "iopub.execute_input": "2023-01-31T03:59:36.551326Z",
     "iopub.status.busy": "2023-01-31T03:59:36.550709Z",
     "iopub.status.idle": "2023-01-31T03:59:36.555122Z",
     "shell.execute_reply": "2023-01-31T03:59:36.554473Z",
     "shell.execute_reply.started": "2023-01-31T03:59:36.551296Z"
    },
    "scrolled": true
   },
   "outputs": [],
   "source": [
    "f1 = open(\"loss.txt\",\"w\")\n",
    "for line in total_loss:\n",
    "    f1.write(str(line)+\"\\n\")\n",
    "f1.close()"
   ]
  },
  {
   "cell_type": "code",
   "execution_count": 80,
   "metadata": {
    "execution": {
     "iopub.execute_input": "2023-01-31T03:59:38.814513Z",
     "iopub.status.busy": "2023-01-31T03:59:38.813757Z",
     "iopub.status.idle": "2023-01-31T03:59:43.870050Z",
     "shell.execute_reply": "2023-01-31T03:59:43.869161Z",
     "shell.execute_reply.started": "2023-01-31T03:59:38.814475Z"
    },
    "scrolled": true
   },
   "outputs": [
    {
     "name": "stdout",
     "output_type": "stream",
     "text": [
      "              precision    recall  f1-score   support\r\n",
      "\r\n",
      "           0     0.8843    0.6959    0.7788       582\r\n",
      "           1     0.8137    0.9358    0.8705       826\r\n",
      "\r\n",
      "    accuracy                         0.8366      1408\r\n",
      "   macro avg     0.8490    0.8159    0.8247      1408\r\n",
      "weighted avg     0.8429    0.8366    0.8326      1408\r\n",
      "\r\n"
     ]
    }
   ],
   "source": [
    "import numpy as np\n",
    "from sklearn.metrics import confusion_matrix\n",
    "model_state_dict = paddle.load('trans_model_final.pdparams')\n",
    "model = MyNet()\n",
    "model.set_state_dict(model_state_dict) \n",
    "model.eval()\n",
    "predictions = []\n",
    "r = []\n",
    "for batch_id, data in enumerate(test_loader):\n",
    "    \n",
    "    sent = data[0]\n",
    "    gt_labels = data[1].numpy()\n",
    "    for i in gt_labels:\n",
    "        r.append(i)\n",
    "    results = model(sent)\n",
    "    for probs in results:\n",
    "        # 映射分类label\n",
    "        idx = np.argmax(probs)\n",
    "        predictions.append(idx)\n",
    "    \n",
    "confusion_matrix(r, predictions)\n",
    "from sklearn.metrics import classification_report\n",
    "target_names = [\"0\",\"1\"]\n",
    "CR=classification_report(r, predictions, target_names=target_names,digits=4)\n",
    "print(CR)"
   ]
  },
  {
   "cell_type": "markdown",
   "metadata": {},
   "source": [
    "# GRU"
   ]
  },
  {
   "cell_type": "code",
   "execution_count": 96,
   "metadata": {
    "execution": {
     "iopub.execute_input": "2023-01-12T16:55:26.583895Z",
     "iopub.status.busy": "2023-01-12T16:55:26.583289Z",
     "iopub.status.idle": "2023-01-12T16:55:26.590237Z",
     "shell.execute_reply": "2023-01-12T16:55:26.589522Z",
     "shell.execute_reply.started": "2023-01-12T16:55:26.583854Z"
    },
    "scrolled": true
   },
   "outputs": [
    {
     "name": "stdout",
     "output_type": "stream",
     "text": [
      "7976\r\n"
     ]
    }
   ],
   "source": [
    "batch_size = 32\n",
    "epochs = 3\n",
    "\n",
    "#词汇表总数\n",
    "vocab_size = len(vocab) + 1\n",
    "print(vocab_size)\n",
    "\n",
    "\n",
    "emb_size = 256\n",
    "#句子固定长度\n",
    "seq_len = 150\n",
    "\n",
    "\n",
    "\n",
    "#补齐词的id编号\n",
    "pad_id = vocab[\"<pad>\"]\n",
    "\n",
    "#类别\n",
    "classes = ['negative', 'positive']"
   ]
  },
  {
   "cell_type": "code",
   "execution_count": 97,
   "metadata": {
    "execution": {
     "iopub.execute_input": "2023-01-12T16:55:33.411798Z",
     "iopub.status.busy": "2023-01-12T16:55:33.411135Z",
     "iopub.status.idle": "2023-01-12T16:55:33.420137Z",
     "shell.execute_reply": "2023-01-12T16:55:33.419392Z",
     "shell.execute_reply.started": "2023-01-12T16:55:33.411757Z"
    },
    "scrolled": true
   },
   "outputs": [],
   "source": [
    "import paddle.nn as nn\n",
    "import paddle\n",
    "# 定义GRU网络\n",
    "class MyGRU(paddle.nn.Layer):\n",
    "    def __init__(self):\n",
    "        super(MyGRU, self).__init__()\n",
    "\n",
    "        #将词汇表中的每个词映射为256维向量，以避免one-hot编码带来的稀疏性\n",
    "        self.embedding = nn.Embedding(vocab_size, emb_size)\n",
    "\n",
    "        #定义模型\n",
    "        # 这里的input_size就是词向量的维度，hidden_size就是RNN隐藏层的维度\n",
    "        # 并不需要指定时间步数，也即seq_len，这是因为，GRU和LSTM都实现了自身的迭代\n",
    "        self.gru = nn.GRU(input_size=emb_size, hidden_size=256, num_layers=2, direction='bidirectional',dropout=0.5)\n",
    "        self.linear = nn.Linear(in_features=256*2, out_features=2)  #二分类问题，情感分为积极和消极\n",
    "        self.dropout = nn.Dropout(p=0.5)\n",
    "    \n",
    "\n",
    "    def forward(self, inputs):\n",
    "        \n",
    "        #词嵌入\n",
    "        #inputs大小为句子长度*embedding向量大小=200*256\n",
    "        #emb大小为 [32, 200, 256]\n",
    "        emb = self.dropout(self.embedding(inputs))\n",
    "\n",
    "        #调用gru        \n",
    "        output, hidden = self.gru(emb)\n",
    "        #output形状大小为[32, 200, 512]=[batch_size,seq_len,num_directions * hidden_size]\n",
    "        #hidden形状大小为[4, 32, 256]=[num_layers * num_directions, batch_size, hidden_size]\n",
    "\n",
    "        #把前向的hidden与后向的hidden（大小为[32, 256]）合并在一起，对axis=1进行运算\n",
    "        hidden = paddle.concat((hidden[-2,:,:], hidden[-1,:,:]), axis = 1)\n",
    "        #合并后，hidden形状大小为[32, 512]=[batch_size, hidden_size * num_directions]        \n",
    "\n",
    "        hidden = self.dropout(hidden)\n",
    "        return self.linear(hidden)"
   ]
  },
  {
   "cell_type": "code",
   "execution_count": 98,
   "metadata": {
    "execution": {
     "iopub.execute_input": "2023-01-12T16:55:35.604516Z",
     "iopub.status.busy": "2023-01-12T16:55:35.603882Z",
     "iopub.status.idle": "2023-01-12T16:55:35.609757Z",
     "shell.execute_reply": "2023-01-12T16:55:35.608915Z",
     "shell.execute_reply.started": "2023-01-12T16:55:35.604473Z"
    },
    "scrolled": true
   },
   "outputs": [],
   "source": [
    "def draw_process(title,color,iters,data,label):\n",
    "    plt.title(title, fontsize=24)\n",
    "    plt.xlabel(\"iter\", fontsize=20)\n",
    "    plt.ylabel(label, fontsize=20)\n",
    "    plt.plot(iters, data,color=color,label=label) \n",
    "    plt.legend()\n",
    "    plt.grid()\n",
    "    plt.show()"
   ]
  },
  {
   "cell_type": "code",
   "execution_count": 119,
   "metadata": {
    "execution": {
     "iopub.execute_input": "2023-01-12T17:03:26.915188Z",
     "iopub.status.busy": "2023-01-12T17:03:26.914535Z",
     "iopub.status.idle": "2023-01-12T17:03:47.891607Z",
     "shell.execute_reply": "2023-01-12T17:03:47.890743Z",
     "shell.execute_reply.started": "2023-01-12T17:03:26.915146Z"
    },
    "scrolled": true,
    "tags": []
   },
   "outputs": [
    {
     "name": "stdout",
     "output_type": "stream",
     "text": [
      "epoch: 0, batch_id: 0, loss is: [0.7015072]\r\n",
      "epoch: 0, batch_id: 20, loss is: [0.6533925]\r\n",
      "epoch: 0, batch_id: 40, loss is: [0.46181595]\r\n",
      "epoch: 0, batch_id: 60, loss is: [0.4825068]\r\n",
      "epoch: 0, batch_id: 80, loss is: [0.4456603]\r\n",
      "epoch: 0, batch_id: 100, loss is: [0.17415377]\r\n",
      "epoch: 0, batch_id: 120, loss is: [0.3437603]\r\n",
      "epoch: 0, batch_id: 140, loss is: [0.41518012]\r\n",
      "epoch: 0, batch_id: 160, loss is: [0.32090238]\r\n",
      "epoch: 0, batch_id: 180, loss is: [0.37683064]\r\n",
      "epoch: 0, batch_id: 200, loss is: [0.20779213]\r\n",
      "[validation] accuracy: 0.8555424809455872, loss: 0.3619607388973236\r\n",
      "epoch: 1, batch_id: 0, loss is: [0.19533]\r\n",
      "epoch: 1, batch_id: 20, loss is: [0.3758583]\r\n",
      "epoch: 1, batch_id: 40, loss is: [0.14952928]\r\n",
      "epoch: 1, batch_id: 60, loss is: [0.15813324]\r\n",
      "epoch: 1, batch_id: 80, loss is: [0.18964943]\r\n",
      "epoch: 1, batch_id: 100, loss is: [0.35594615]\r\n",
      "epoch: 1, batch_id: 120, loss is: [0.19588354]\r\n",
      "epoch: 1, batch_id: 140, loss is: [0.42311233]\r\n",
      "epoch: 1, batch_id: 160, loss is: [0.3626388]\r\n",
      "epoch: 1, batch_id: 180, loss is: [0.39961675]\r\n",
      "epoch: 1, batch_id: 200, loss is: [0.5756333]\r\n",
      "[validation] accuracy: 0.8673349022865295, loss: 0.3341655135154724\r\n",
      "epoch: 2, batch_id: 0, loss is: [0.11057389]\r\n",
      "epoch: 2, batch_id: 20, loss is: [0.11804007]\r\n",
      "epoch: 2, batch_id: 40, loss is: [0.28489375]\r\n",
      "epoch: 2, batch_id: 60, loss is: [0.20628461]\r\n",
      "epoch: 2, batch_id: 80, loss is: [0.28075725]\r\n",
      "epoch: 2, batch_id: 100, loss is: [0.15770343]\r\n",
      "epoch: 2, batch_id: 120, loss is: [0.1715468]\r\n",
      "epoch: 2, batch_id: 140, loss is: [0.31056803]\r\n",
      "epoch: 2, batch_id: 160, loss is: [0.08833499]\r\n",
      "epoch: 2, batch_id: 180, loss is: [0.36114082]\r\n",
      "epoch: 2, batch_id: 200, loss is: [0.06735097]\r\n",
      "[validation] accuracy: 0.854363203048706, loss: 0.3922363519668579\r\n"
     ]
    },
    {
     "data": {
      "image/png": "[encoded data removed]",
      "text/plain": [
       "<Figure size 640x480 with 1 Axes>"
      ]
     },
     "metadata": {},
     "output_type": "display_data"
    },
    {
     "data": {
      "image/png": "[encoded data removed]",
      "text/plain": [
       "<Figure size 640x480 with 1 Axes>"
      ]
     },
     "metadata": {},
     "output_type": "display_data"
    },
    {
     "name": "stdout",
     "output_type": "stream",
     "text": [
      "20.963518142700195\r\n"
     ]
    }
   ],
   "source": [
    "# 对模型进行封装\n",
    "def train(model):\n",
    "    model.train()\n",
    "    opt = paddle.optimizer.Adam(learning_rate=0.002, parameters=model.parameters())\n",
    "    steps = 0\n",
    "    \n",
    "\n",
    "    for epoch in range(epochs):\n",
    "        for batch_id, data in enumerate(train_loader):\n",
    "            steps += 1\n",
    "            #每次送入一个batch的数据,sent大小为[32, 200]\n",
    "            sent = data[0]\n",
    "            label = data[1]            \n",
    "            #送入模型            \n",
    "            logits = model(sent)\n",
    "            loss = paddle.nn.functional.cross_entropy(logits, label)\n",
    "            acc = paddle.metric.accuracy(logits, label)\n",
    "\n",
    "            if batch_id % 20 == 0:  # 500个epoch输出一次结果\n",
    "                Iters.append(steps)\n",
    "                total_loss.append(loss.numpy()[0])\n",
    "                total_acc.append(acc.numpy()[0])\n",
    "\n",
    "                print(\"epoch: {}, batch_id: {}, loss is: {}\".format(epoch, batch_id, loss.numpy()))\n",
    "            \n",
    "            loss.backward()\n",
    "            opt.step()\n",
    "            opt.clear_grad()\n",
    "\n",
    "        # evaluate model after one epoch\n",
    "        model.eval()\n",
    "        accuracies = []\n",
    "        losses = []\n",
    "        \n",
    "        for batch_id, data in enumerate(test_loader):\n",
    "            \n",
    "            sent = data[0]\n",
    "            label = data[1]\n",
    "\n",
    "            logits = model(sent)\n",
    "            loss = paddle.nn.functional.cross_entropy(logits, label)\n",
    "            acc = paddle.metric.accuracy(logits, label)\n",
    "            \n",
    "            accuracies.append(acc.numpy())\n",
    "            losses.append(loss.numpy())\n",
    "        \n",
    "        avg_acc, avg_loss = np.mean(accuracies), np.mean(losses)\n",
    "\n",
    "        print(\"[validation] accuracy: {}, loss: {}\".format(avg_acc, avg_loss))\n",
    "        \n",
    "        model.train()\n",
    "\n",
    "        # 保存模型\n",
    "    paddle.save(model.state_dict(),\"gru_model_final.pdparams\")\n",
    "    \n",
    "    # 可视化查看\n",
    "    draw_process(\"trainning loss\",\"red\",Iters,total_loss,\"trainning loss\")\n",
    "    draw_process(\"trainning acc\",\"green\",Iters,total_acc,\"trainning acc\")\n",
    "import time \n",
    "a = time.time()\n",
    "Iters, total_loss, total_acc = [], [], []       \n",
    "model = MyGRU()\n",
    "train(model)\n",
    "b = time.time()\n",
    "print(b-a)"
   ]
  },
  {
   "cell_type": "code",
   "execution_count": 114,
   "metadata": {
    "execution": {
     "iopub.execute_input": "2023-01-12T17:02:28.221567Z",
     "iopub.status.busy": "2023-01-12T17:02:28.220879Z",
     "iopub.status.idle": "2023-01-12T17:02:28.226889Z",
     "shell.execute_reply": "2023-01-12T17:02:28.225820Z",
     "shell.execute_reply.started": "2023-01-12T17:02:28.221518Z"
    },
    "scrolled": true
   },
   "outputs": [],
   "source": [
    "f1 = open(\"loss.txt\",\"w\")\n",
    "for line in total_loss:\n",
    "    f1.write(str(line)+\"\\n\")\n",
    "f1.close()"
   ]
  },
  {
   "cell_type": "code",
   "execution_count": 120,
   "metadata": {
    "execution": {
     "iopub.execute_input": "2023-01-12T17:03:57.177748Z",
     "iopub.status.busy": "2023-01-12T17:03:57.176554Z",
     "iopub.status.idle": "2023-01-12T17:04:04.106187Z",
     "shell.execute_reply": "2023-01-12T17:04:04.105306Z",
     "shell.execute_reply.started": "2023-01-12T17:03:57.177703Z"
    },
    "scrolled": true
   },
   "outputs": [
    {
     "name": "stdout",
     "output_type": "stream",
     "text": [
      "              precision    recall  f1-score   support\r\n",
      "\r\n",
      "           0     0.8005    0.8734    0.8354       703\r\n",
      "           1     0.9042    0.8459    0.8741       993\r\n",
      "\r\n",
      "    accuracy                         0.8573      1696\r\n",
      "   macro avg     0.8524    0.8597    0.8547      1696\r\n",
      "weighted avg     0.8612    0.8573    0.8580      1696\r\n",
      "\r\n"
     ]
    }
   ],
   "source": [
    "import numpy as np\n",
    "from sklearn.metrics import confusion_matrix\n",
    "model_state_dict = paddle.load('gru_model_final.pdparams')\n",
    "model = MyGRU()\n",
    "model.set_state_dict(model_state_dict) \n",
    "model.eval()\n",
    "predictions = []\n",
    "r = []\n",
    "for batch_id, data in enumerate(test_loader):\n",
    "    \n",
    "    sent = data[0]\n",
    "    gt_labels = data[1].numpy()\n",
    "    for i in gt_labels:\n",
    "        r.append(i)\n",
    "    results = model(sent)\n",
    "    for probs in results:\n",
    "        # 映射分类label\n",
    "        idx = np.argmax(probs)\n",
    "        predictions.append(idx)\n",
    "    \n",
    "confusion_matrix(r, predictions)\n",
    "from sklearn.metrics import classification_report\n",
    "target_names = [\"0\",\"1\"]\n",
    "CR=classification_report(r, predictions, target_names=target_names,digits=4)\n",
    "print(CR)"
   ]
  },
  {
   "cell_type": "markdown",
   "metadata": {},
   "source": [
    "##  BERT"
   ]
  },
  {
   "cell_type": "code",
   "execution_count": 85,
   "metadata": {
    "execution": {
     "iopub.execute_input": "2023-01-31T04:10:19.208348Z",
     "iopub.status.busy": "2023-01-31T04:10:19.207002Z",
     "iopub.status.idle": "2023-01-31T04:10:22.212683Z",
     "shell.execute_reply": "2023-01-31T04:10:22.206574Z",
     "shell.execute_reply.started": "2023-01-31T04:10:19.208293Z"
    },
    "scrolled": true
   },
   "outputs": [
    {
     "name": "stdout",
     "output_type": "stream",
     "text": [
      "Requirement already satisfied: paddlenlp==2.0.0b4 in /opt/conda/envs/python35-paddle120-env/lib/python3.7/site-packages (2.0.0b4)\r\n",
      "Requirement already satisfied: colorama in /opt/conda/envs/python35-paddle120-env/lib/python3.7/site-packages (from paddlenlp==2.0.0b4) (0.4.4)\r\n",
      "Requirement already satisfied: jieba in /opt/conda/envs/python35-paddle120-env/lib/python3.7/site-packages (from paddlenlp==2.0.0b4) (0.42.1)\r\n",
      "Requirement already satisfied: h5py in /opt/conda/envs/python35-paddle120-env/lib/python3.7/site-packages (from paddlenlp==2.0.0b4) (2.9.0)\r\n",
      "Requirement already satisfied: colorlog in /opt/conda/envs/python35-paddle120-env/lib/python3.7/site-packages (from paddlenlp==2.0.0b4) (4.1.0)\r\n",
      "Requirement already satisfied: seqeval in /opt/conda/envs/python35-paddle120-env/lib/python3.7/site-packages (from paddlenlp==2.0.0b4) (1.2.2)\r\n",
      "Requirement already satisfied: visualdl in /opt/conda/envs/python35-paddle120-env/lib/python3.7/site-packages (from paddlenlp==2.0.0b4) (2.2.0)\r\n",
      "Requirement already satisfied: six in /opt/conda/envs/python35-paddle120-env/lib/python3.7/site-packages (from h5py->paddlenlp==2.0.0b4) (1.16.0)\r\n",
      "Requirement already satisfied: numpy>=1.7 in /opt/conda/envs/python35-paddle120-env/lib/python3.7/site-packages (from h5py->paddlenlp==2.0.0b4) (1.20.3)\r\n",
      "Requirement already satisfied: scikit-learn>=0.21.3 in /opt/conda/envs/python35-paddle120-env/lib/python3.7/site-packages (from seqeval->paddlenlp==2.0.0b4) (0.24.2)\r\n",
      "Requirement already satisfied: bce-python-sdk in /opt/conda/envs/python35-paddle120-env/lib/python3.7/site-packages (from visualdl->paddlenlp==2.0.0b4) (0.8.53)\r\n",
      "Requirement already satisfied: protobuf>=3.11.0 in /opt/conda/envs/python35-paddle120-env/lib/python3.7/site-packages (from visualdl->paddlenlp==2.0.0b4) (3.20.1)\r\n",
      "Requirement already satisfied: flake8>=3.7.9 in /opt/conda/envs/python35-paddle120-env/lib/python3.7/site-packages (from visualdl->paddlenlp==2.0.0b4) (4.0.1)\r\n",
      "Requirement already satisfied: Pillow>=7.0.0 in /opt/conda/envs/python35-paddle120-env/lib/python3.7/site-packages (from visualdl->paddlenlp==2.0.0b4) (7.1.2)\r\n",
      "Requirement already satisfied: flask>=1.1.1 in /opt/conda/envs/python35-paddle120-env/lib/python3.7/site-packages (from visualdl->paddlenlp==2.0.0b4) (1.1.1)\r\n",
      "Requirement already satisfied: pre-commit in /opt/conda/envs/python35-paddle120-env/lib/python3.7/site-packages (from visualdl->paddlenlp==2.0.0b4) (1.21.0)\r\n",
      "Requirement already satisfied: requests in /opt/conda/envs/python35-paddle120-env/lib/python3.7/site-packages (from visualdl->paddlenlp==2.0.0b4) (2.22.0)\r\n",
      "Requirement already satisfied: Flask-Babel>=1.0.0 in /opt/conda/envs/python35-paddle120-env/lib/python3.7/site-packages (from visualdl->paddlenlp==2.0.0b4) (1.0.0)\r\n",
      "Requirement already satisfied: matplotlib in /opt/conda/envs/python35-paddle120-env/lib/python3.7/site-packages (from visualdl->paddlenlp==2.0.0b4) (2.2.3)\r\n",
      "Requirement already satisfied: shellcheck-py in /opt/conda/envs/python35-paddle120-env/lib/python3.7/site-packages (from visualdl->paddlenlp==2.0.0b4) (0.7.1.1)\r\n",
      "Requirement already satisfied: pandas in /opt/conda/envs/python35-paddle120-env/lib/python3.7/site-packages (from visualdl->paddlenlp==2.0.0b4) (1.1.5)\r\n",
      "Requirement already satisfied: importlib-metadata<4.3 in /opt/conda/envs/python35-paddle120-env/lib/python3.7/site-packages (from flake8>=3.7.9->visualdl->paddlenlp==2.0.0b4) (4.2.0)\r\n",
      "Requirement already satisfied: pycodestyle<2.9.0,>=2.8.0 in /opt/conda/envs/python35-paddle120-env/lib/python3.7/site-packages (from flake8>=3.7.9->visualdl->paddlenlp==2.0.0b4) (2.8.0)\r\n",
      "Requirement already satisfied: pyflakes<2.5.0,>=2.4.0 in /opt/conda/envs/python35-paddle120-env/lib/python3.7/site-packages (from flake8>=3.7.9->visualdl->paddlenlp==2.0.0b4) (2.4.0)\r\n",
      "Requirement already satisfied: mccabe<0.7.0,>=0.6.0 in /opt/conda/envs/python35-paddle120-env/lib/python3.7/site-packages (from flake8>=3.7.9->visualdl->paddlenlp==2.0.0b4) (0.6.1)\r\n",
      "Requirement already satisfied: Jinja2>=2.10.1 in /opt/conda/envs/python35-paddle120-env/lib/python3.7/site-packages (from flask>=1.1.1->visualdl->paddlenlp==2.0.0b4) (3.0.0)\r\n",
      "Requirement already satisfied: Werkzeug>=0.15 in /opt/conda/envs/python35-paddle120-env/lib/python3.7/site-packages (from flask>=1.1.1->visualdl->paddlenlp==2.0.0b4) (0.16.0)\r\n",
      "Requirement already satisfied: itsdangerous>=0.24 in /opt/conda/envs/python35-paddle120-env/lib/python3.7/site-packages (from flask>=1.1.1->visualdl->paddlenlp==2.0.0b4) (1.1.0)\r\n",
      "Requirement already satisfied: click>=5.1 in /opt/conda/envs/python35-paddle120-env/lib/python3.7/site-packages (from flask>=1.1.1->visualdl->paddlenlp==2.0.0b4) (8.0.4)\r\n",
      "Requirement already satisfied: pytz in /opt/conda/envs/python35-paddle120-env/lib/python3.7/site-packages (from Flask-Babel>=1.0.0->visualdl->paddlenlp==2.0.0b4) (2019.3)\r\n",
      "Requirement already satisfied: Babel>=2.3 in /opt/conda/envs/python35-paddle120-env/lib/python3.7/site-packages (from Flask-Babel>=1.0.0->visualdl->paddlenlp==2.0.0b4) (2.8.0)\r\n",
      "Requirement already satisfied: scipy>=0.19.1 in /opt/conda/envs/python35-paddle120-env/lib/python3.7/site-packages (from scikit-learn>=0.21.3->seqeval->paddlenlp==2.0.0b4) (1.6.3)\r\n",
      "Requirement already satisfied: threadpoolctl>=2.0.0 in /opt/conda/envs/python35-paddle120-env/lib/python3.7/site-packages (from scikit-learn>=0.21.3->seqeval->paddlenlp==2.0.0b4) (2.1.0)\r\n",
      "Requirement already satisfied: joblib>=0.11 in /opt/conda/envs/python35-paddle120-env/lib/python3.7/site-packages (from scikit-learn>=0.21.3->seqeval->paddlenlp==2.0.0b4) (0.14.1)\r\n",
      "Requirement already satisfied: future>=0.6.0 in /opt/conda/envs/python35-paddle120-env/lib/python3.7/site-packages (from bce-python-sdk->visualdl->paddlenlp==2.0.0b4) (0.18.0)\r\n",
      "Requirement already satisfied: pycryptodome>=3.8.0 in /opt/conda/envs/python35-paddle120-env/lib/python3.7/site-packages (from bce-python-sdk->visualdl->paddlenlp==2.0.0b4) (3.9.9)\r\n",
      "Requirement already satisfied: python-dateutil>=2.1 in /opt/conda/envs/python35-paddle120-env/lib/python3.7/site-packages (from matplotlib->visualdl->paddlenlp==2.0.0b4) (2.8.2)\r\n",
      "Requirement already satisfied: cycler>=0.10 in /opt/conda/envs/python35-paddle120-env/lib/python3.7/site-packages (from matplotlib->visualdl->paddlenlp==2.0.0b4) (0.10.0)\r\n",
      "Requirement already satisfied: kiwisolver>=1.0.1 in /opt/conda/envs/python35-paddle120-env/lib/python3.7/site-packages (from matplotlib->visualdl->paddlenlp==2.0.0b4) (1.1.0)\r\n",
      "Requirement already satisfied: pyparsing!=2.0.4,!=2.1.2,!=2.1.6,>=2.0.1 in /opt/conda/envs/python35-paddle120-env/lib/python3.7/site-packages (from matplotlib->visualdl->paddlenlp==2.0.0b4) (3.0.9)\r\n",
      "Requirement already satisfied: virtualenv>=15.2 in /opt/conda/envs/python35-paddle120-env/lib/python3.7/site-packages (from pre-commit->visualdl->paddlenlp==2.0.0b4) (16.7.9)\r\n",
      "Requirement already satisfied: cfgv>=2.0.0 in /opt/conda/envs/python35-paddle120-env/lib/python3.7/site-packages (from pre-commit->visualdl->paddlenlp==2.0.0b4) (2.0.1)\r\n",
      "Requirement already satisfied: nodeenv>=0.11.1 in /opt/conda/envs/python35-paddle120-env/lib/python3.7/site-packages (from pre-commit->visualdl->paddlenlp==2.0.0b4) (1.3.4)\r\n",
      "Requirement already satisfied: aspy.yaml in /opt/conda/envs/python35-paddle120-env/lib/python3.7/site-packages (from pre-commit->visualdl->paddlenlp==2.0.0b4) (1.3.0)\r\n",
      "Requirement already satisfied: identify>=1.0.0 in /opt/conda/envs/python35-paddle120-env/lib/python3.7/site-packages (from pre-commit->visualdl->paddlenlp==2.0.0b4) (1.4.10)\r\n",
      "Requirement already satisfied: toml in /opt/conda/envs/python35-paddle120-env/lib/python3.7/site-packages (from pre-commit->visualdl->paddlenlp==2.0.0b4) (0.10.0)\r\n",
      "Requirement already satisfied: pyyaml in /opt/conda/envs/python35-paddle120-env/lib/python3.7/site-packages (from pre-commit->visualdl->paddlenlp==2.0.0b4) (5.1.2)\r\n",
      "Requirement already satisfied: chardet<3.1.0,>=3.0.2 in /opt/conda/envs/python35-paddle120-env/lib/python3.7/site-packages (from requests->visualdl->paddlenlp==2.0.0b4) (3.0.4)\r\n",
      "Requirement already satisfied: idna<2.9,>=2.5 in /opt/conda/envs/python35-paddle120-env/lib/python3.7/site-packages (from requests->visualdl->paddlenlp==2.0.0b4) (2.8)\r\n",
      "Requirement already satisfied: urllib3!=1.25.0,!=1.25.1,<1.26,>=1.21.1 in /opt/conda/envs/python35-paddle120-env/lib/python3.7/site-packages (from requests->visualdl->paddlenlp==2.0.0b4) (1.25.6)\r\n",
      "Requirement already satisfied: certifi>=2017.4.17 in /opt/conda/envs/python35-paddle120-env/lib/python3.7/site-packages (from requests->visualdl->paddlenlp==2.0.0b4) (2019.9.11)\r\n",
      "Requirement already satisfied: zipp>=0.5 in /opt/conda/envs/python35-paddle120-env/lib/python3.7/site-packages (from importlib-metadata<4.3->flake8>=3.7.9->visualdl->paddlenlp==2.0.0b4) (3.8.1)\r\n",
      "Requirement already satisfied: typing-extensions>=3.6.4 in /opt/conda/envs/python35-paddle120-env/lib/python3.7/site-packages (from importlib-metadata<4.3->flake8>=3.7.9->visualdl->paddlenlp==2.0.0b4) (4.3.0)\r\n",
      "Requirement already satisfied: MarkupSafe>=2.0.0rc2 in /opt/conda/envs/python35-paddle120-env/lib/python3.7/site-packages (from Jinja2>=2.10.1->flask>=1.1.1->visualdl->paddlenlp==2.0.0b4) (2.0.1)\r\n",
      "Requirement already satisfied: setuptools in /opt/conda/envs/python35-paddle120-env/lib/python3.7/site-packages (from kiwisolver>=1.0.1->matplotlib->visualdl->paddlenlp==2.0.0b4) (56.2.0)\r\n",
      "\r\n",
      "[notice] A new release of pip available: 22.1.2 -> 23.0\r\n",
      "[notice] To update, run: pip install --upgrade pip\r\n"
     ]
    }
   ],
   "source": [
    "!pip install --upgrade paddlenlp==2.0.0b4 -i https://pypi.org/simple"
   ]
  },
  {
   "cell_type": "code",
   "execution_count": 86,
   "metadata": {
    "execution": {
     "iopub.execute_input": "2023-01-31T04:10:34.329593Z",
     "iopub.status.busy": "2023-01-31T04:10:34.328866Z",
     "iopub.status.idle": "2023-01-31T04:10:34.335700Z",
     "shell.execute_reply": "2023-01-31T04:10:34.335046Z",
     "shell.execute_reply.started": "2023-01-31T04:10:34.329566Z"
    },
    "scrolled": true
   },
   "outputs": [
    {
     "name": "stdout",
     "output_type": "stream",
     "text": [
      "2.0.2\r\n"
     ]
    }
   ],
   "source": [
    "import re\r\n",
    "import jieba\r\n",
    "import os \r\n",
    "import random\r\n",
    "import paddle\r\n",
    "import paddlenlp as ppnlp\r\n",
    "from paddlenlp.data import Stack, Pad, Tuple\r\n",
    "import paddle.nn.functional as F\r\n",
    "import paddle.nn as nn\r\n",
    "from visualdl import LogWriter\r\n",
    "import numpy as np\r\n",
    "from functools import partial #partial()函数可以用来固定某些参数值，并返回一个新的callable对象\r\n",
    "import os, zipfile\r\n",
    "import io, random, json\r\n",
    "print(paddle.__version__)"
   ]
  },
  {
   "cell_type": "code",
   "execution_count": 87,
   "metadata": {
    "execution": {
     "iopub.execute_input": "2023-01-31T04:10:52.065647Z",
     "iopub.status.busy": "2023-01-31T04:10:52.064722Z",
     "iopub.status.idle": "2023-01-31T04:12:19.963718Z",
     "shell.execute_reply": "2023-01-31T04:12:19.962831Z",
     "shell.execute_reply.started": "2023-01-31T04:10:52.065613Z"
    },
    "scrolled": true
   },
   "outputs": [],
   "source": [
    "f=open(\"eval_list.txt\",\"w\")\r\n",
    "\r\n",
    "with io.open(eval_path, \"r\", encoding='utf8') as fin:\r\n",
    "        i = 0\r\n",
    "        for line in fin:\r\n",
    "            i += 1\r\n",
    "            cols = line.strip().split(\"\\t\")\r\n",
    "            if len(cols) != 2:\r\n",
    "                sys.stderr.write(\"[NOTICE] Error Format Line!\")\r\n",
    "                continue\r\n",
    "            label = int(cols[1])\r\n",
    "            wids = cols[0].split(\",\")\r\n",
    "            strline = ids_to_str(wids) + \"\\t\" + str(label) + \"\\n\"\r\n",
    "            f.writelines(strline)"
   ]
  },
  {
   "cell_type": "code",
   "execution_count": 88,
   "metadata": {
    "execution": {
     "iopub.execute_input": "2023-01-31T04:15:44.747188Z",
     "iopub.status.busy": "2023-01-31T04:15:44.746700Z",
     "iopub.status.idle": "2023-01-31T04:19:37.066489Z",
     "shell.execute_reply": "2023-01-31T04:19:37.065244Z",
     "shell.execute_reply.started": "2023-01-31T04:15:44.747156Z"
    },
    "scrolled": true,
    "tags": []
   },
   "outputs": [
    {
     "ename": "KeyboardInterrupt",
     "evalue": "",
     "output_type": "error",
     "traceback": [
      "\u001b[0;31m---------------------------------------------------------------------------\u001b[0m",
      "\u001b[0;31mKeyboardInterrupt\u001b[0m                         Traceback (most recent call last)",
      "\u001b[0;32m/tmp/ipykernel_3643/641268876.py\u001b[0m in \u001b[0;36m<module>\u001b[0;34m\u001b[0m\n\u001b[1;32m     11\u001b[0m             \u001b[0mlabel\u001b[0m \u001b[0;34m=\u001b[0m \u001b[0mint\u001b[0m\u001b[0;34m(\u001b[0m\u001b[0mcols\u001b[0m\u001b[0;34m[\u001b[0m\u001b[0;36m1\u001b[0m\u001b[0;34m]\u001b[0m\u001b[0;34m)\u001b[0m\u001b[0;34m\u001b[0m\u001b[0;34m\u001b[0m\u001b[0m\n\u001b[1;32m     12\u001b[0m             \u001b[0mwids\u001b[0m \u001b[0;34m=\u001b[0m \u001b[0mcols\u001b[0m\u001b[0;34m[\u001b[0m\u001b[0;36m0\u001b[0m\u001b[0;34m]\u001b[0m\u001b[0;34m.\u001b[0m\u001b[0msplit\u001b[0m\u001b[0;34m(\u001b[0m\u001b[0;34m\",\"\u001b[0m\u001b[0;34m)\u001b[0m\u001b[0;34m\u001b[0m\u001b[0;34m\u001b[0m\u001b[0m\n\u001b[0;32m---> 13\u001b[0;31m             \u001b[0mstrline\u001b[0m \u001b[0;34m=\u001b[0m \u001b[0mids_to_str\u001b[0m\u001b[0;34m(\u001b[0m\u001b[0mwids\u001b[0m\u001b[0;34m)\u001b[0m \u001b[0;34m+\u001b[0m \u001b[0;34m\"\\t\"\u001b[0m \u001b[0;34m+\u001b[0m \u001b[0mstr\u001b[0m\u001b[0;34m(\u001b[0m\u001b[0mlabel\u001b[0m\u001b[0;34m)\u001b[0m \u001b[0;34m+\u001b[0m \u001b[0;34m\"\\n\"\u001b[0m\u001b[0;34m\u001b[0m\u001b[0;34m\u001b[0m\u001b[0m\n\u001b[0m\u001b[1;32m     14\u001b[0m             \u001b[0mf\u001b[0m\u001b[0;34m.\u001b[0m\u001b[0mwritelines\u001b[0m\u001b[0;34m(\u001b[0m\u001b[0mstrline\u001b[0m\u001b[0;34m)\u001b[0m\u001b[0;34m\u001b[0m\u001b[0;34m\u001b[0m\u001b[0m\n",
      "\u001b[0;32m/tmp/ipykernel_3643/756285357.py\u001b[0m in \u001b[0;36mids_to_str\u001b[0;34m(ids)\u001b[0m\n\u001b[1;32m      5\u001b[0m     \u001b[0mwords\u001b[0m \u001b[0;34m=\u001b[0m \u001b[0;34m[\u001b[0m\u001b[0;34m]\u001b[0m\u001b[0;34m\u001b[0m\u001b[0;34m\u001b[0m\u001b[0m\n\u001b[1;32m      6\u001b[0m     \u001b[0;32mfor\u001b[0m \u001b[0mk\u001b[0m \u001b[0;32min\u001b[0m \u001b[0mids\u001b[0m\u001b[0;34m:\u001b[0m\u001b[0;34m\u001b[0m\u001b[0;34m\u001b[0m\u001b[0m\n\u001b[0;32m----> 7\u001b[0;31m         \u001b[0mw\u001b[0m \u001b[0;34m=\u001b[0m \u001b[0mlist\u001b[0m\u001b[0;34m(\u001b[0m\u001b[0mvocab\u001b[0m\u001b[0;34m.\u001b[0m\u001b[0mkeys\u001b[0m\u001b[0;34m(\u001b[0m\u001b[0;34m)\u001b[0m\u001b[0;34m)\u001b[0m\u001b[0;34m[\u001b[0m\u001b[0mlist\u001b[0m\u001b[0;34m(\u001b[0m\u001b[0mvocab\u001b[0m\u001b[0;34m.\u001b[0m\u001b[0mvalues\u001b[0m\u001b[0;34m(\u001b[0m\u001b[0;34m)\u001b[0m\u001b[0;34m)\u001b[0m\u001b[0;34m.\u001b[0m\u001b[0mindex\u001b[0m\u001b[0;34m(\u001b[0m\u001b[0mint\u001b[0m\u001b[0;34m(\u001b[0m\u001b[0mk\u001b[0m\u001b[0;34m)\u001b[0m\u001b[0;34m)\u001b[0m\u001b[0;34m]\u001b[0m\u001b[0;34m\u001b[0m\u001b[0;34m\u001b[0m\u001b[0m\n\u001b[0m\u001b[1;32m      8\u001b[0m         \u001b[0mwords\u001b[0m\u001b[0;34m.\u001b[0m\u001b[0mappend\u001b[0m\u001b[0;34m(\u001b[0m\u001b[0mw\u001b[0m \u001b[0;32mif\u001b[0m \u001b[0misinstance\u001b[0m\u001b[0;34m(\u001b[0m\u001b[0mw\u001b[0m\u001b[0;34m,\u001b[0m \u001b[0mstr\u001b[0m\u001b[0;34m)\u001b[0m \u001b[0;32melse\u001b[0m \u001b[0mw\u001b[0m\u001b[0;34m.\u001b[0m\u001b[0mdecode\u001b[0m\u001b[0;34m(\u001b[0m\u001b[0;34m'ASCII'\u001b[0m\u001b[0;34m)\u001b[0m\u001b[0;34m)\u001b[0m\u001b[0;34m\u001b[0m\u001b[0;34m\u001b[0m\u001b[0m\n\u001b[1;32m      9\u001b[0m     \u001b[0;32mreturn\u001b[0m \u001b[0;34m\" \"\u001b[0m\u001b[0;34m.\u001b[0m\u001b[0mjoin\u001b[0m\u001b[0;34m(\u001b[0m\u001b[0mwords\u001b[0m\u001b[0;34m)\u001b[0m\u001b[0;34m\u001b[0m\u001b[0;34m\u001b[0m\u001b[0m\n",
      "\u001b[0;31mKeyboardInterrupt\u001b[0m: "
     ]
    }
   ],
   "source": [
    "f=open(\"train_list.txt\",\"w\")\r\n",
    "\r\n",
    "with io.open(train_path, \"r\", encoding='utf8') as fin:\r\n",
    "        i = 0\r\n",
    "        for line in fin:\r\n",
    "            i += 1\r\n",
    "            cols = line.strip().split(\"\\t\")\r\n",
    "            if len(cols) != 2:\r\n",
    "                sys.stderr.write(\"[NOTICE] Error Format Line!\")\r\n",
    "                continue\r\n",
    "            label = int(cols[1])\r\n",
    "            wids = cols[0].split(\",\")\r\n",
    "            strline = ids_to_str(wids) + \"\\t\" + str(label) + \"\\n\"\r\n",
    "            f.writelines(strline)"
   ]
  },
  {
   "cell_type": "code",
   "execution_count": null,
   "metadata": {
    "scrolled": true
   },
   "outputs": [],
   "source": [
    "f=open(\"test_list.txt\",\"w\")\r\n",
    "\r\n",
    "with io.open(test_path, \"r\", encoding='utf8') as fin:\r\n",
    "        i = 0\r\n",
    "        for line in fin:\r\n",
    "            i += 1\r\n",
    "            cols = line.strip().split(\"\\t\")\r\n",
    "            if len(cols) != 2:\r\n",
    "                sys.stderr.write(\"[NOTICE] Error Format Line!\")\r\n",
    "                continue\r\n",
    "            label = int(cols[1])\r\n",
    "            wids = cols[0].split(\",\")\r\n",
    "            strline = ids_to_str(wids) + \"\\t\" + str(label) + \"\\n\"\r\n",
    "            f.writelines(strline)\r\n"
   ]
  },
  {
   "cell_type": "code",
   "execution_count": null,
   "metadata": {
    "scrolled": true
   },
   "outputs": [],
   "source": [
    "#数据处理已经做好可以从这里开始运行代码\r\n",
    "class SelfDefinedDataset(paddle.io.Dataset):\r\n",
    "    def __init__(self, data):\r\n",
    "        super(SelfDefinedDataset, self).__init__()\r\n",
    "        self.data = data\r\n",
    "\r\n",
    "    def __getitem__(self, idx):\r\n",
    "        return self.data[idx]\r\n",
    "\r\n",
    "    def __len__(self):\r\n",
    "        return len(self.data)\r\n",
    "        \r\n",
    "    def get_labels(self):\r\n",
    "        return [\"0\", \"1\"]\r\n",
    "\r\n",
    "def txt_to_list(file_name):\r\n",
    "    res_list = []\r\n",
    "    for line in open(file_name):\r\n",
    "        res_list.append(line.strip().split('\\t'))\r\n",
    "    return res_list\r\n",
    "\r\n",
    "trainlst = txt_to_list('train_list.txt')\r\n",
    "devlst = txt_to_list('eval_list.txt')\r\n",
    "testlst = txt_to_list('test_list.txt')\r\n",
    "\r\n",
    "train_ds, dev_ds, test_ds = SelfDefinedDataset.get_datasets([trainlst, devlst, testlst])"
   ]
  },
  {
   "cell_type": "code",
   "execution_count": null,
   "metadata": {
    "scrolled": true
   },
   "outputs": [],
   "source": [
    "\r\n",
    "label_list = train_ds.get_labels()\r\n",
    "#看看数据长什么样子，分别打印训练集、验证集、测试集的前3条数据。\r\n",
    "print(\"训练集数据：{}\\n\".format(train_ds[0:3]))\r\n",
    "print(\"验证集数据:{}\\n\".format(dev_ds[0:3]))\r\n",
    "print(\"测试集数据:{}\\n\".format(test_ds[0:3]))\r\n",
    "\r\n",
    "print(\"训练集样本个数:{}\".format(len(train_ds)))\r\n",
    "print(\"验证集样本个数:{}\".format(len(dev_ds)))\r\n",
    "print(\"测试集样本个数:{}\".format(len(test_ds)))"
   ]
  },
  {
   "cell_type": "code",
   "execution_count": null,
   "metadata": {
    "scrolled": true
   },
   "outputs": [],
   "source": [
    "\r\n",
    "#验证清洗脏数据\r\n",
    "for line in test_ds:\r\n",
    "    if len(line) != 2:\r\n",
    "        print(\"error\")\r\n",
    "        print(line)"
   ]
  },
  {
   "cell_type": "code",
   "execution_count": null,
   "metadata": {
    "scrolled": true
   },
   "outputs": [],
   "source": [
    "tokenizer = ppnlp.transformers.BertTokenizer.from_pretrained(\"bert-base-chinese\")\r\n",
    "\r\n",
    "#数据预处理\r\n",
    "def convert_example(example,tokenizer,label_list,max_seq_length=256,is_test=False):\r\n",
    "    if is_test:\r\n",
    "        text = example\r\n",
    "    else:\r\n",
    "        text, label = example\r\n",
    "    #tokenizer.encode方法能够完成切分token，映射token ID以及拼接特殊token\r\n",
    "    encoded_inputs = tokenizer.encode(text=text, max_seq_len=max_seq_length)\r\n",
    "    input_ids = encoded_inputs[\"input_ids\"]\r\n",
    "    #注意，在早前的PaddleNLP版本中，token_type_ids叫做segment_ids\r\n",
    "    segment_ids = encoded_inputs[\"segment_ids\"]\r\n",
    "\r\n",
    "    if not is_test:\r\n",
    "        label_map = {}\r\n",
    "        for (i, l) in enumerate(label_list):\r\n",
    "            label_map[l] = i\r\n",
    "\r\n",
    "        label = label_map[label]\r\n",
    "        label = np.array([label], dtype=\"int64\")\r\n",
    "        return input_ids, segment_ids, label\r\n",
    "    else:\r\n",
    "        return input_ids, segment_ids\r\n",
    "\r\n",
    "#数据迭代器构造方法\r\n",
    "def create_dataloader(dataset, trans_fn=None, mode='train', batch_size=1, use_gpu=False, pad_token_id=0, batchify_fn=None):\r\n",
    "    if trans_fn:\r\n",
    "        dataset = dataset.apply(trans_fn, lazy=True)\r\n",
    "\r\n",
    "    if mode == 'train' and use_gpu:\r\n",
    "        sampler = paddle.io.DistributedBatchSampler(dataset=dataset, batch_size=batch_size, shuffle=True)\r\n",
    "    else:\r\n",
    "        shuffle = True if mode == 'train' else False #如果不是训练集，则不打乱顺序\r\n",
    "        sampler = paddle.io.BatchSampler(dataset=dataset, batch_size=batch_size, shuffle=shuffle) #生成一个取样器\r\n",
    "    dataloader = paddle.io.DataLoader(dataset, batch_sampler=sampler, return_list=True, collate_fn=batchify_fn)\r\n",
    "    return dataloader\r\n",
    "\r\n",
    "#使用partial()来固定convert_example函数的tokenizer, label_list, max_seq_length, is_test等参数值\r\n",
    "trans_fn = partial(convert_example, tokenizer=tokenizer, label_list=label_list, max_seq_length=128, is_test=False)\r\n",
    "batchify_fn = lambda samples, fn=Tuple(Pad(axis=0,pad_val=tokenizer.pad_token_id), Pad(axis=0, pad_val=tokenizer.pad_token_id), Stack(dtype=\"int64\")):[data for data in fn(samples)]\r\n",
    "#训练集迭代器\r\n",
    "train_loader = create_dataloader(train_ds, mode='train', batch_size=32, batchify_fn=batchify_fn, trans_fn=trans_fn)\r\n",
    "#验证集迭代器\r\n",
    "dev_loader = create_dataloader(dev_ds, mode='dev', batch_size=1, batchify_fn=batchify_fn, trans_fn=trans_fn)\r\n",
    "#测试集迭代器\r\n",
    "test_loader = create_dataloader(test_ds, mode='test', batch_size=32, batchify_fn=batchify_fn, trans_fn=trans_fn)"
   ]
  },
  {
   "cell_type": "code",
   "execution_count": null,
   "metadata": {
    "scrolled": true
   },
   "outputs": [],
   "source": [
    "model = ppnlp.transformers.BertForSequenceClassification.from_pretrained(\"bert-base-chinese\", num_classes=2)"
   ]
  },
  {
   "cell_type": "code",
   "execution_count": null,
   "metadata": {
    "scrolled": true
   },
   "outputs": [],
   "source": [
    "#设置训练超参数\r\n",
    "\r\n",
    "#学习率1e-5 \r\n",
    "learning_rate = 0.0002\r\n",
    "#训练轮次\r\n",
    "epochs = 2\r\n",
    "#学习率预热比率\r\n",
    "warmup_proption = 0.1\r\n",
    "#权重衰减系数\r\n",
    "weight_decay = 0.01\r\n",
    "\r\n",
    "num_training_steps = len(train_loader) * epochs\r\n",
    "num_warmup_steps = int(warmup_proption * num_training_steps)\r\n",
    "\r\n",
    "def get_lr_factor(current_step):\r\n",
    "    if current_step < num_warmup_steps:\r\n",
    "        return float(current_step) / float(max(1, num_warmup_steps))\r\n",
    "    else:\r\n",
    "        return max(0.0,\r\n",
    "                    float(num_training_steps - current_step) /\r\n",
    "                    float(max(1, num_training_steps - num_warmup_steps)))\r\n",
    "#学习率调度器\r\n",
    "lr_scheduler = paddle.optimizer.lr.LambdaDecay(learning_rate, lr_lambda=lambda current_step: get_lr_factor(current_step))\r\n",
    "\r\n",
    "#优化器\r\n",
    "optimizer = paddle.optimizer.AdamW(\r\n",
    "    learning_rate=lr_scheduler,\r\n",
    "    parameters=model.parameters(),\r\n",
    "    weight_decay=weight_decay,\r\n",
    "    apply_decay_param_fun=lambda x: x in [\r\n",
    "        p.name for n, p in model.named_parameters()\r\n",
    "        if not any(nd in n for nd in [\"bias\", \"norm\"])\r\n",
    "    ])\r\n",
    "\r\n",
    "#损失函数\r\n",
    "criterion = paddle.nn.loss.CrossEntropyLoss()\r\n",
    "#评估函数\r\n",
    "metric = paddle.metric.Accuracy()"
   ]
  },
  {
   "cell_type": "code",
   "execution_count": null,
   "metadata": {
    "scrolled": true
   },
   "outputs": [],
   "source": [
    "def evaluate(model, criterion, metric, data_loader):\r\n",
    "    model.eval()\r\n",
    "    metric.reset()\r\n",
    "    losses = []\r\n",
    "    for batch in data_loader:\r\n",
    "        input_ids, segment_ids, labels = batch\r\n",
    "        logits = model(input_ids, segment_ids)\r\n",
    "        loss = criterion(logits, labels)\r\n",
    "        losses.append(loss.numpy())\r\n",
    "        correct = metric.compute(logits, labels)\r\n",
    "        metric.update(correct)\r\n",
    "        accu = metric.accumulate()\r\n",
    "    print(\"eval loss: %.5f, accu: %.5f\" % (np.mean(losses), accu))\r\n",
    "    model.train()\r\n",
    "    metric.reset()\r\n",
    "    return np.mean(losses), accu"
   ]
  },
  {
   "cell_type": "code",
   "execution_count": null,
   "metadata": {
    "scrolled": true
   },
   "outputs": [],
   "source": [
    "global_step = 0\r\n",
    "with LogWriter(logdir=\"./log\") as writer:\r\n",
    "    for epoch in range(1, epochs + 1):    \r\n",
    "        for step, batch in enumerate(train_loader, start=1): #从训练数据迭代器中取数据\r\n",
    "            input_ids, segment_ids, labels = batch\r\n",
    "            #print(segment_ids)\r\n",
    "            logits = model(input_ids, segment_ids)\r\n",
    "            loss = criterion(logits, labels) #计算损失\r\n",
    "            probs = F.softmax(logits, axis=1)\r\n",
    "            correct = metric.compute(probs, labels)\r\n",
    "            metric.update(correct)\r\n",
    "            acc = metric.accumulate()\r\n",
    "            # print(acc)\r\n",
    "\r\n",
    "            global_step += 1\r\n",
    "            if global_step % 50 == 0 :\r\n",
    "                print(\"global step %d, epoch: %d, batch: %d, loss: %.5f, acc: %.5f\" % (global_step, epoch, step, loss, acc))\r\n",
    "                #记录训练过程\r\n",
    "                writer.add_scalar(tag=\"train/loss\", step=global_step, value=loss)\r\n",
    "                writer.add_scalar(tag=\"train/acc\", step=global_step, value=acc)\r\n",
    "            loss.backward()\r\n",
    "            optimizer.step()\r\n",
    "            lr_scheduler.step()\r\n",
    "            optimizer.clear_gradients()\r\n",
    "        eval_loss, eval_acc = evaluate(model, criterion, metric, dev_loader)\r\n",
    "        #记录评估过程\r\n",
    "        writer.add_scalar(tag=\"eval/loss\", step=epoch, value=eval_loss)\r\n",
    "        writer.add_scalar(tag=\"eval/acc\", step=epoch, value=eval_acc)"
   ]
  },
  {
   "cell_type": "code",
   "execution_count": null,
   "metadata": {
    "scrolled": true
   },
   "outputs": [],
   "source": [
    "def predict(model, data, tokenizer, label_map, batch_size=1):\r\n",
    "    examples = []\r\n",
    "    results = []\r\n",
    "    lable = []\r\n",
    "    model.eval()\r\n",
    "    for batch in data:\r\n",
    "        input_ids, segment_ids, labels = batch\r\n",
    "        input_ids = paddle.to_tensor(input_ids)\r\n",
    "        segment_ids = paddle.to_tensor(segment_ids)\r\n",
    "        logits = model(input_ids, segment_ids)\r\n",
    "        probs = F.softmax(logits, axis=1)\r\n",
    "        idx = paddle.argmax(probs, axis=1).numpy()\r\n",
    "        idx = idx.tolist()\r\n",
    "        # print(labels.numpy().tolist())\r\n",
    "        # labels = [label_map[i] for i in idx]\r\n",
    "        results.extend(idx)\r\n",
    "        lable.extend(labels.numpy().tolist()[0])\r\n",
    "    return results,lable"
   ]
  },
  {
   "cell_type": "code",
   "execution_count": null,
   "metadata": {
    "scrolled": true
   },
   "outputs": [],
   "source": [
    "label_map = {0: '谣言', 1: '不是谣言'}\r\n",
    "predictions,r = predict(model, dev_loader, tokenizer, label_map, batch_size=1)\r\n",
    "\r\n",
    "from sklearn.metrics import classification_report\r\n",
    "target_names = [\"0\",\"1\"]\r\n",
    "CR=classification_report(r, predictions, target_names=target_names,digits=4)\r\n",
    "print(CR)"
   ]
  }
 ],
 "metadata": {
  "kernelspec": {
   "display_name": "Python 3",
   "language": "python",
   "name": "py35-paddle1.2.0"
  },
  "language_info": {
   "codemirror_mode": {
    "name": "ipython",
    "version": 3
   },
   "file_extension": ".py",
   "mimetype": "text/x-python",
   "name": "python",
   "nbconvert_exporter": "python",
   "pygments_lexer": "ipython3",
   "version": "3.7.4"
  }
 },
 "nbformat": 4,
 "nbformat_minor": 4
}
